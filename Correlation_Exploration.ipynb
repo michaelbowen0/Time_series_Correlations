{
  "cells": [
    {
      "cell_type": "code",
      "execution_count": null,
      "id": "73e1920f",
      "metadata": {
        "id": "73e1920f"
      },
      "outputs": [],
      "source": [
        "import pandas as pd\n",
        "import numpy as np\n",
        "from matplotlib import pyplot as plt\n",
        "from numpy import random\n",
        "import scipy.stats as ss"
      ]
    },
    {
      "cell_type": "code",
      "execution_count": null,
      "id": "bef94a2f",
      "metadata": {
        "id": "bef94a2f"
      },
      "outputs": [],
      "source": [
        "def randomwalk1D(n):\n",
        "    x, y = 0, 0\n",
        "    # Generate the time points [1, 2, 3, ... , n]\n",
        "    timepoints = np.arange(n + 1)\n",
        "    positions = [y]\n",
        "    for i in range(1, n + 1):\n",
        "        # Randomly select either a value from a normal distribution with mean 0 and std. dev 1\n",
        "        step = random.normal(loc=0, scale=1)\n",
        "        \n",
        "        # Move the object up or down by step value\n",
        "        y += step\n",
        "        # Keep track of the positions\n",
        "        positions.append(y)\n",
        "    return timepoints, positions"
      ]
    },
    {
      "cell_type": "code",
      "execution_count": null,
      "id": "3b66f4e5",
      "metadata": {
        "colab": {
          "base_uri": "https://localhost:8080/",
          "height": 281
        },
        "id": "3b66f4e5",
        "outputId": "9a3d8abe-d2c3-45cd-b57b-48ec04d17c84"
      },
      "outputs": [
        {
          "output_type": "display_data",
          "data": {
            "text/plain": [
              "<Figure size 432x288 with 1 Axes>"
            ],
            "image/png": "[encoded data removed]"
          },
          "metadata": {
            "needs_background": "light"
          }
        }
      ],
      "source": [
        "time_data, pos_data = randomwalk1D(1000)\n",
        "data1 = pd.DataFrame({'time_data', 'pos_data'})\n",
        "plt.plot(time_data, pos_data, 'r-')\n",
        "plt.title(\"1D Random Walk in Python\")\n",
        "plt.show()"
      ]
    },
    {
      "cell_type": "code",
      "source": [
        "data1 = pd.DataFrame(\n",
        "    {'time': time_data,\n",
        "     'position': pos_data\n",
        "    })"
      ],
      "metadata": {
        "id": "NhwvGyg8oNh7"
      },
      "id": "NhwvGyg8oNh7",
      "execution_count": null,
      "outputs": []
    },
    {
      "cell_type": "code",
      "source": [
        "data1"
      ],
      "metadata": {
        "colab": {
          "base_uri": "https://localhost:8080/",
          "height": 424
        },
        "id": "aqjLKwdgnxwQ",
        "outputId": "d905cf50-a549-4484-8169-a076fb7fbd8a"
      },
      "id": "aqjLKwdgnxwQ",
      "execution_count": null,
      "outputs": [
        {
          "output_type": "execute_result",
          "data": {
            "text/plain": [
              "      time   position\n",
              "0        0   0.000000\n",
              "1        1  -0.949950\n",
              "2        2  -1.037468\n",
              "3        3  -1.587337\n",
              "4        4  -1.209407\n",
              "...    ...        ...\n",
              "996    996 -42.764844\n",
              "997    997 -41.726962\n",
              "998    998 -42.147481\n",
              "999    999 -43.720006\n",
              "1000  1000 -44.867207\n",
              "\n",
              "[1001 rows x 2 columns]"
            ],
            "text/html": [
              "\n",
              "  <div id=\"df-baf9d7c8-c792-4e9a-ba47-badd03805b9b\">\n",
              "    <div class=\"colab-df-container\">\n",
              "      <div>\n",
              "<style scoped>\n",
              "    .dataframe tbody tr th:only-of-type {\n",
              "        vertical-align: middle;\n",
              "    }\n",
              "\n",
              "    .dataframe tbody tr th {\n",
              "        vertical-align: top;\n",
              "    }\n",
              "\n",
              "    .dataframe thead th {\n",
              "        text-align: right;\n",
              "    }\n",
              "</style>\n",
              "<table border=\"1\" class=\"dataframe\">\n",
              "  <thead>\n",
              "    <tr style=\"text-align: right;\">\n",
              "      <th></th>\n",
              "      <th>time</th>\n",
              "      <th>position</th>\n",
              "    </tr>\n",
              "  </thead>\n",
              "  <tbody>\n",
              "    <tr>\n",
              "      <th>0</th>\n",
              "      <td>0</td>\n",
              "      <td>0.000000</td>\n",
              "    </tr>\n",
              "    <tr>\n",
              "      <th>1</th>\n",
              "      <td>1</td>\n",
              "      <td>-0.949950</td>\n",
              "    </tr>\n",
              "    <tr>\n",
              "      <th>2</th>\n",
              "      <td>2</td>\n",
              "      <td>-1.037468</td>\n",
              "    </tr>\n",
              "    <tr>\n",
              "      <th>3</th>\n",
              "      <td>3</td>\n",
              "      <td>-1.587337</td>\n",
              "    </tr>\n",
              "    <tr>\n",
              "      <th>4</th>\n",
              "      <td>4</td>\n",
              "      <td>-1.209407</td>\n",
              "    </tr>\n",
              "    <tr>\n",
              "      <th>...</th>\n",
              "      <td>...</td>\n",
              "      <td>...</td>\n",
              "    </tr>\n",
              "    <tr>\n",
              "      <th>996</th>\n",
              "      <td>996</td>\n",
              "      <td>-42.764844</td>\n",
              "    </tr>\n",
              "    <tr>\n",
              "      <th>997</th>\n",
              "      <td>997</td>\n",
              "      <td>-41.726962</td>\n",
              "    </tr>\n",
              "    <tr>\n",
              "      <th>998</th>\n",
              "      <td>998</td>\n",
              "      <td>-42.147481</td>\n",
              "    </tr>\n",
              "    <tr>\n",
              "      <th>999</th>\n",
              "      <td>999</td>\n",
              "      <td>-43.720006</td>\n",
              "    </tr>\n",
              "    <tr>\n",
              "      <th>1000</th>\n",
              "      <td>1000</td>\n",
              "      <td>-44.867207</td>\n",
              "    </tr>\n",
              "  </tbody>\n",
              "</table>\n",
              "<p>1001 rows × 2 columns</p>\n",
              "</div>\n",
              "      <button class=\"colab-df-convert\" onclick=\"convertToInteractive('df-baf9d7c8-c792-4e9a-ba47-badd03805b9b')\"\n",
              "              title=\"Convert this dataframe to an interactive table.\"\n",
              "              style=\"display:none;\">\n",
              "        \n",
              "  <svg xmlns=\"http://www.w3.org/2000/svg\" height=\"24px\"viewBox=\"0 0 24 24\"\n",
              "       width=\"24px\">\n",
              "    <path d=\"M0 0h24v24H0V0z\" fill=\"none\"/>\n",
              "    <path d=\"M18.56 5.44l.94 2.06.94-2.06 2.06-.94-2.06-.94-.94-2.06-.94 2.06-2.06.94zm-11 1L8.5 8.5l.94-2.06 2.06-.94-2.06-.94L8.5 2.5l-.94 2.06-2.06.94zm10 10l.94 2.06.94-2.06 2.06-.94-2.06-.94-.94-2.06-.94 2.06-2.06.94z\"/><path d=\"M17.41 7.96l-1.37-1.37c-.4-.4-.92-.59-1.43-.59-.52 0-1.04.2-1.43.59L10.3 9.45l-7.72 7.72c-.78.78-.78 2.05 0 2.83L4 21.41c.39.39.9.59 1.41.59.51 0 1.02-.2 1.41-.59l7.78-7.78 2.81-2.81c.8-.78.8-2.07 0-2.86zM5.41 20L4 18.59l7.72-7.72 1.47 1.35L5.41 20z\"/>\n",
              "  </svg>\n",
              "      </button>\n",
              "      \n",
              "  <style>\n",
              "    .colab-df-container {\n",
              "      display:flex;\n",
              "      flex-wrap:wrap;\n",
              "      gap: 12px;\n",
              "    }\n",
              "\n",
              "    .colab-df-convert {\n",
              "      background-color: #E8F0FE;\n",
              "      border: none;\n",
              "      border-radius: 50%;\n",
              "      cursor: pointer;\n",
              "      display: none;\n",
              "      fill: #1967D2;\n",
              "      height: 32px;\n",
              "      padding: 0 0 0 0;\n",
              "      width: 32px;\n",
              "    }\n",
              "\n",
              "    .colab-df-convert:hover {\n",
              "      background-color: #E2EBFA;\n",
              "      box-shadow: 0px 1px 2px rgba(60, 64, 67, 0.3), 0px 1px 3px 1px rgba(60, 64, 67, 0.15);\n",
              "      fill: #174EA6;\n",
              "    }\n",
              "\n",
              "    [theme=dark] .colab-df-convert {\n",
              "      background-color: #3B4455;\n",
              "      fill: #D2E3FC;\n",
              "    }\n",
              "\n",
              "    [theme=dark] .colab-df-convert:hover {\n",
              "      background-color: #434B5C;\n",
              "      box-shadow: 0px 1px 3px 1px rgba(0, 0, 0, 0.15);\n",
              "      filter: drop-shadow(0px 1px 2px rgba(0, 0, 0, 0.3));\n",
              "      fill: #FFFFFF;\n",
              "    }\n",
              "  </style>\n",
              "\n",
              "      <script>\n",
              "        const buttonEl =\n",
              "          document.querySelector('#df-baf9d7c8-c792-4e9a-ba47-badd03805b9b button.colab-df-convert');\n",
              "        buttonEl.style.display =\n",
              "          google.colab.kernel.accessAllowed ? 'block' : 'none';\n",
              "\n",
              "        async function convertToInteractive(key) {\n",
              "          const element = document.querySelector('#df-baf9d7c8-c792-4e9a-ba47-badd03805b9b');\n",
              "          const dataTable =\n",
              "            await google.colab.kernel.invokeFunction('convertToInteractive',\n",
              "                                                     [key], {});\n",
              "          if (!dataTable) return;\n",
              "\n",
              "          const docLinkHtml = 'Like what you see? Visit the ' +\n",
              "            '<a target=\"_blank\" href=https://colab.research.google.com/notebooks/data_table.ipynb>data table notebook</a>'\n",
              "            + ' to learn more about interactive tables.';\n",
              "          element.innerHTML = '';\n",
              "          dataTable['output_type'] = 'display_data';\n",
              "          await google.colab.output.renderOutput(dataTable, element);\n",
              "          const docLink = document.createElement('div');\n",
              "          docLink.innerHTML = docLinkHtml;\n",
              "          element.appendChild(docLink);\n",
              "        }\n",
              "      </script>\n",
              "    </div>\n",
              "  </div>\n",
              "  "
            ]
          },
          "metadata": {},
          "execution_count": 6
        }
      ]
    },
    {
      "cell_type": "code",
      "source": [
        "data1.corr(method='pearson')"
      ],
      "metadata": {
        "colab": {
          "base_uri": "https://localhost:8080/",
          "height": 112
        },
        "id": "8cIPpSDMnQdd",
        "outputId": "f62e6510-7583-482b-97a8-608b4cce43a2"
      },
      "id": "8cIPpSDMnQdd",
      "execution_count": null,
      "outputs": [
        {
          "output_type": "execute_result",
          "data": {
            "text/plain": [
              "              time  position\n",
              "time      1.000000 -0.145642\n",
              "position -0.145642  1.000000"
            ],
            "text/html": [
              "\n",
              "  <div id=\"df-53d549ed-b79e-4ea5-b372-f64907ca9211\">\n",
              "    <div class=\"colab-df-container\">\n",
              "      <div>\n",
              "<style scoped>\n",
              "    .dataframe tbody tr th:only-of-type {\n",
              "        vertical-align: middle;\n",
              "    }\n",
              "\n",
              "    .dataframe tbody tr th {\n",
              "        vertical-align: top;\n",
              "    }\n",
              "\n",
              "    .dataframe thead th {\n",
              "        text-align: right;\n",
              "    }\n",
              "</style>\n",
              "<table border=\"1\" class=\"dataframe\">\n",
              "  <thead>\n",
              "    <tr style=\"text-align: right;\">\n",
              "      <th></th>\n",
              "      <th>time</th>\n",
              "      <th>position</th>\n",
              "    </tr>\n",
              "  </thead>\n",
              "  <tbody>\n",
              "    <tr>\n",
              "      <th>time</th>\n",
              "      <td>1.000000</td>\n",
              "      <td>-0.145642</td>\n",
              "    </tr>\n",
              "    <tr>\n",
              "      <th>position</th>\n",
              "      <td>-0.145642</td>\n",
              "      <td>1.000000</td>\n",
              "    </tr>\n",
              "  </tbody>\n",
              "</table>\n",
              "</div>\n",
              "      <button class=\"colab-df-convert\" onclick=\"convertToInteractive('df-53d549ed-b79e-4ea5-b372-f64907ca9211')\"\n",
              "              title=\"Convert this dataframe to an interactive table.\"\n",
              "              style=\"display:none;\">\n",
              "        \n",
              "  <svg xmlns=\"http://www.w3.org/2000/svg\" height=\"24px\"viewBox=\"0 0 24 24\"\n",
              "       width=\"24px\">\n",
              "    <path d=\"M0 0h24v24H0V0z\" fill=\"none\"/>\n",
              "    <path d=\"M18.56 5.44l.94 2.06.94-2.06 2.06-.94-2.06-.94-.94-2.06-.94 2.06-2.06.94zm-11 1L8.5 8.5l.94-2.06 2.06-.94-2.06-.94L8.5 2.5l-.94 2.06-2.06.94zm10 10l.94 2.06.94-2.06 2.06-.94-2.06-.94-.94-2.06-.94 2.06-2.06.94z\"/><path d=\"M17.41 7.96l-1.37-1.37c-.4-.4-.92-.59-1.43-.59-.52 0-1.04.2-1.43.59L10.3 9.45l-7.72 7.72c-.78.78-.78 2.05 0 2.83L4 21.41c.39.39.9.59 1.41.59.51 0 1.02-.2 1.41-.59l7.78-7.78 2.81-2.81c.8-.78.8-2.07 0-2.86zM5.41 20L4 18.59l7.72-7.72 1.47 1.35L5.41 20z\"/>\n",
              "  </svg>\n",
              "      </button>\n",
              "      \n",
              "  <style>\n",
              "    .colab-df-container {\n",
              "      display:flex;\n",
              "      flex-wrap:wrap;\n",
              "      gap: 12px;\n",
              "    }\n",
              "\n",
              "    .colab-df-convert {\n",
              "      background-color: #E8F0FE;\n",
              "      border: none;\n",
              "      border-radius: 50%;\n",
              "      cursor: pointer;\n",
              "      display: none;\n",
              "      fill: #1967D2;\n",
              "      height: 32px;\n",
              "      padding: 0 0 0 0;\n",
              "      width: 32px;\n",
              "    }\n",
              "\n",
              "    .colab-df-convert:hover {\n",
              "      background-color: #E2EBFA;\n",
              "      box-shadow: 0px 1px 2px rgba(60, 64, 67, 0.3), 0px 1px 3px 1px rgba(60, 64, 67, 0.15);\n",
              "      fill: #174EA6;\n",
              "    }\n",
              "\n",
              "    [theme=dark] .colab-df-convert {\n",
              "      background-color: #3B4455;\n",
              "      fill: #D2E3FC;\n",
              "    }\n",
              "\n",
              "    [theme=dark] .colab-df-convert:hover {\n",
              "      background-color: #434B5C;\n",
              "      box-shadow: 0px 1px 3px 1px rgba(0, 0, 0, 0.15);\n",
              "      filter: drop-shadow(0px 1px 2px rgba(0, 0, 0, 0.3));\n",
              "      fill: #FFFFFF;\n",
              "    }\n",
              "  </style>\n",
              "\n",
              "      <script>\n",
              "        const buttonEl =\n",
              "          document.querySelector('#df-53d549ed-b79e-4ea5-b372-f64907ca9211 button.colab-df-convert');\n",
              "        buttonEl.style.display =\n",
              "          google.colab.kernel.accessAllowed ? 'block' : 'none';\n",
              "\n",
              "        async function convertToInteractive(key) {\n",
              "          const element = document.querySelector('#df-53d549ed-b79e-4ea5-b372-f64907ca9211');\n",
              "          const dataTable =\n",
              "            await google.colab.kernel.invokeFunction('convertToInteractive',\n",
              "                                                     [key], {});\n",
              "          if (!dataTable) return;\n",
              "\n",
              "          const docLinkHtml = 'Like what you see? Visit the ' +\n",
              "            '<a target=\"_blank\" href=https://colab.research.google.com/notebooks/data_table.ipynb>data table notebook</a>'\n",
              "            + ' to learn more about interactive tables.';\n",
              "          element.innerHTML = '';\n",
              "          dataTable['output_type'] = 'display_data';\n",
              "          await google.colab.output.renderOutput(dataTable, element);\n",
              "          const docLink = document.createElement('div');\n",
              "          docLink.innerHTML = docLinkHtml;\n",
              "          element.appendChild(docLink);\n",
              "        }\n",
              "      </script>\n",
              "    </div>\n",
              "  </div>\n",
              "  "
            ]
          },
          "metadata": {},
          "execution_count": 7
        }
      ]
    },
    {
      "cell_type": "code",
      "source": [
        "data1.corr(method='spearman')"
      ],
      "metadata": {
        "colab": {
          "base_uri": "https://localhost:8080/",
          "height": 112
        },
        "id": "HNmPYt4AnsVR",
        "outputId": "8565319c-0617-4e1d-f0ca-e0c8878ae15f"
      },
      "id": "HNmPYt4AnsVR",
      "execution_count": null,
      "outputs": [
        {
          "output_type": "execute_result",
          "data": {
            "text/plain": [
              "              time  position\n",
              "time      1.000000 -0.101912\n",
              "position -0.101912  1.000000"
            ],
            "text/html": [
              "\n",
              "  <div id=\"df-4c83b721-3274-4d30-bc77-8be049f928b3\">\n",
              "    <div class=\"colab-df-container\">\n",
              "      <div>\n",
              "<style scoped>\n",
              "    .dataframe tbody tr th:only-of-type {\n",
              "        vertical-align: middle;\n",
              "    }\n",
              "\n",
              "    .dataframe tbody tr th {\n",
              "        vertical-align: top;\n",
              "    }\n",
              "\n",
              "    .dataframe thead th {\n",
              "        text-align: right;\n",
              "    }\n",
              "</style>\n",
              "<table border=\"1\" class=\"dataframe\">\n",
              "  <thead>\n",
              "    <tr style=\"text-align: right;\">\n",
              "      <th></th>\n",
              "      <th>time</th>\n",
              "      <th>position</th>\n",
              "    </tr>\n",
              "  </thead>\n",
              "  <tbody>\n",
              "    <tr>\n",
              "      <th>time</th>\n",
              "      <td>1.000000</td>\n",
              "      <td>-0.101912</td>\n",
              "    </tr>\n",
              "    <tr>\n",
              "      <th>position</th>\n",
              "      <td>-0.101912</td>\n",
              "      <td>1.000000</td>\n",
              "    </tr>\n",
              "  </tbody>\n",
              "</table>\n",
              "</div>\n",
              "      <button class=\"colab-df-convert\" onclick=\"convertToInteractive('df-4c83b721-3274-4d30-bc77-8be049f928b3')\"\n",
              "              title=\"Convert this dataframe to an interactive table.\"\n",
              "              style=\"display:none;\">\n",
              "        \n",
              "  <svg xmlns=\"http://www.w3.org/2000/svg\" height=\"24px\"viewBox=\"0 0 24 24\"\n",
              "       width=\"24px\">\n",
              "    <path d=\"M0 0h24v24H0V0z\" fill=\"none\"/>\n",
              "    <path d=\"M18.56 5.44l.94 2.06.94-2.06 2.06-.94-2.06-.94-.94-2.06-.94 2.06-2.06.94zm-11 1L8.5 8.5l.94-2.06 2.06-.94-2.06-.94L8.5 2.5l-.94 2.06-2.06.94zm10 10l.94 2.06.94-2.06 2.06-.94-2.06-.94-.94-2.06-.94 2.06-2.06.94z\"/><path d=\"M17.41 7.96l-1.37-1.37c-.4-.4-.92-.59-1.43-.59-.52 0-1.04.2-1.43.59L10.3 9.45l-7.72 7.72c-.78.78-.78 2.05 0 2.83L4 21.41c.39.39.9.59 1.41.59.51 0 1.02-.2 1.41-.59l7.78-7.78 2.81-2.81c.8-.78.8-2.07 0-2.86zM5.41 20L4 18.59l7.72-7.72 1.47 1.35L5.41 20z\"/>\n",
              "  </svg>\n",
              "      </button>\n",
              "      \n",
              "  <style>\n",
              "    .colab-df-container {\n",
              "      display:flex;\n",
              "      flex-wrap:wrap;\n",
              "      gap: 12px;\n",
              "    }\n",
              "\n",
              "    .colab-df-convert {\n",
              "      background-color: #E8F0FE;\n",
              "      border: none;\n",
              "      border-radius: 50%;\n",
              "      cursor: pointer;\n",
              "      display: none;\n",
              "      fill: #1967D2;\n",
              "      height: 32px;\n",
              "      padding: 0 0 0 0;\n",
              "      width: 32px;\n",
              "    }\n",
              "\n",
              "    .colab-df-convert:hover {\n",
              "      background-color: #E2EBFA;\n",
              "      box-shadow: 0px 1px 2px rgba(60, 64, 67, 0.3), 0px 1px 3px 1px rgba(60, 64, 67, 0.15);\n",
              "      fill: #174EA6;\n",
              "    }\n",
              "\n",
              "    [theme=dark] .colab-df-convert {\n",
              "      background-color: #3B4455;\n",
              "      fill: #D2E3FC;\n",
              "    }\n",
              "\n",
              "    [theme=dark] .colab-df-convert:hover {\n",
              "      background-color: #434B5C;\n",
              "      box-shadow: 0px 1px 3px 1px rgba(0, 0, 0, 0.15);\n",
              "      filter: drop-shadow(0px 1px 2px rgba(0, 0, 0, 0.3));\n",
              "      fill: #FFFFFF;\n",
              "    }\n",
              "  </style>\n",
              "\n",
              "      <script>\n",
              "        const buttonEl =\n",
              "          document.querySelector('#df-4c83b721-3274-4d30-bc77-8be049f928b3 button.colab-df-convert');\n",
              "        buttonEl.style.display =\n",
              "          google.colab.kernel.accessAllowed ? 'block' : 'none';\n",
              "\n",
              "        async function convertToInteractive(key) {\n",
              "          const element = document.querySelector('#df-4c83b721-3274-4d30-bc77-8be049f928b3');\n",
              "          const dataTable =\n",
              "            await google.colab.kernel.invokeFunction('convertToInteractive',\n",
              "                                                     [key], {});\n",
              "          if (!dataTable) return;\n",
              "\n",
              "          const docLinkHtml = 'Like what you see? Visit the ' +\n",
              "            '<a target=\"_blank\" href=https://colab.research.google.com/notebooks/data_table.ipynb>data table notebook</a>'\n",
              "            + ' to learn more about interactive tables.';\n",
              "          element.innerHTML = '';\n",
              "          dataTable['output_type'] = 'display_data';\n",
              "          await google.colab.output.renderOutput(dataTable, element);\n",
              "          const docLink = document.createElement('div');\n",
              "          docLink.innerHTML = docLinkHtml;\n",
              "          element.appendChild(docLink);\n",
              "        }\n",
              "      </script>\n",
              "    </div>\n",
              "  </div>\n",
              "  "
            ]
          },
          "metadata": {},
          "execution_count": 8
        }
      ]
    },
    {
      "cell_type": "code",
      "source": [
        "#import statsmodels.api as sm\n",
        "#sm.stats.acorr_ljungbox(pos_data, boxpierce=True)"
      ],
      "metadata": {
        "id": "-Z6LMM8vqanP"
      },
      "id": "-Z6LMM8vqanP",
      "execution_count": null,
      "outputs": []
    },
    {
      "cell_type": "code",
      "execution_count": null,
      "id": "f0a921d8",
      "metadata": {
        "colab": {
          "base_uri": "https://localhost:8080/",
          "height": 265
        },
        "id": "f0a921d8",
        "outputId": "4945e509-7556-42c9-de47-66be357c9348"
      },
      "outputs": [
        {
          "output_type": "display_data",
          "data": {
            "text/plain": [
              "<Figure size 432x288 with 1 Axes>"
            ],
            "image/png": "[encoded data removed]"
          },
          "metadata": {
            "needs_background": "light"
          }
        }
      ],
      "source": [
        "rw1 = randomwalk1D(1000)\n",
        "rw2 = randomwalk1D(1000)\n",
        "rw3 = randomwalk1D(1000)\n",
        "plt.plot(rw1[0], rw1[1], 'r-', label=\"rw1\")\n",
        "plt.plot(rw2[0], rw2[1], 'g-', label=\"rw2\")\n",
        "plt.plot(rw3[0], rw3[1], 'b-', label=\"rw3\")\n",
        "plt.show()"
      ]
    },
    {
      "cell_type": "code",
      "execution_count": null,
      "id": "b06adc74",
      "metadata": {
        "colab": {
          "base_uri": "https://localhost:8080/",
          "height": 281
        },
        "id": "b06adc74",
        "outputId": "32c6633d-4c8c-4395-a161-6ddcaa462c3b"
      },
      "outputs": [
        {
          "output_type": "display_data",
          "data": {
            "text/plain": [
              "<Figure size 432x288 with 1 Axes>"
            ],
            "image/png": "[encoded data removed]"
          },
          "metadata": {
            "needs_background": "light"
          }
        }
      ],
      "source": [
        "time_data2, pos_data2 = randomwalk1D(1000)\n",
        "data2 = pd.DataFrame(\n",
        "    {'time': time_data2,\n",
        "     'position': pos_data2\n",
        "    })\n",
        "plt.plot(time_data2, pos_data2, 'r-')\n",
        "plt.title(\"Second 1D Random Walk in Python\")\n",
        "plt.show()"
      ]
    },
    {
      "cell_type": "code",
      "source": [
        "data2.corr(method='pearson')"
      ],
      "metadata": {
        "colab": {
          "base_uri": "https://localhost:8080/",
          "height": 112
        },
        "id": "FtIQMD_sr6Mv",
        "outputId": "047d2bfe-26f2-4c95-ff37-c9f0b8791234"
      },
      "id": "FtIQMD_sr6Mv",
      "execution_count": null,
      "outputs": [
        {
          "output_type": "execute_result",
          "data": {
            "text/plain": [
              "             time  position\n",
              "time      1.00000  -0.25615\n",
              "position -0.25615   1.00000"
            ],
            "text/html": [
              "\n",
              "  <div id=\"df-ce9f02b8-227d-406b-8901-82d2d8cb813d\">\n",
              "    <div class=\"colab-df-container\">\n",
              "      <div>\n",
              "<style scoped>\n",
              "    .dataframe tbody tr th:only-of-type {\n",
              "        vertical-align: middle;\n",
              "    }\n",
              "\n",
              "    .dataframe tbody tr th {\n",
              "        vertical-align: top;\n",
              "    }\n",
              "\n",
              "    .dataframe thead th {\n",
              "        text-align: right;\n",
              "    }\n",
              "</style>\n",
              "<table border=\"1\" class=\"dataframe\">\n",
              "  <thead>\n",
              "    <tr style=\"text-align: right;\">\n",
              "      <th></th>\n",
              "      <th>time</th>\n",
              "      <th>position</th>\n",
              "    </tr>\n",
              "  </thead>\n",
              "  <tbody>\n",
              "    <tr>\n",
              "      <th>time</th>\n",
              "      <td>1.00000</td>\n",
              "      <td>-0.25615</td>\n",
              "    </tr>\n",
              "    <tr>\n",
              "      <th>position</th>\n",
              "      <td>-0.25615</td>\n",
              "      <td>1.00000</td>\n",
              "    </tr>\n",
              "  </tbody>\n",
              "</table>\n",
              "</div>\n",
              "      <button class=\"colab-df-convert\" onclick=\"convertToInteractive('df-ce9f02b8-227d-406b-8901-82d2d8cb813d')\"\n",
              "              title=\"Convert this dataframe to an interactive table.\"\n",
              "              style=\"display:none;\">\n",
              "        \n",
              "  <svg xmlns=\"http://www.w3.org/2000/svg\" height=\"24px\"viewBox=\"0 0 24 24\"\n",
              "       width=\"24px\">\n",
              "    <path d=\"M0 0h24v24H0V0z\" fill=\"none\"/>\n",
              "    <path d=\"M18.56 5.44l.94 2.06.94-2.06 2.06-.94-2.06-.94-.94-2.06-.94 2.06-2.06.94zm-11 1L8.5 8.5l.94-2.06 2.06-.94-2.06-.94L8.5 2.5l-.94 2.06-2.06.94zm10 10l.94 2.06.94-2.06 2.06-.94-2.06-.94-.94-2.06-.94 2.06-2.06.94z\"/><path d=\"M17.41 7.96l-1.37-1.37c-.4-.4-.92-.59-1.43-.59-.52 0-1.04.2-1.43.59L10.3 9.45l-7.72 7.72c-.78.78-.78 2.05 0 2.83L4 21.41c.39.39.9.59 1.41.59.51 0 1.02-.2 1.41-.59l7.78-7.78 2.81-2.81c.8-.78.8-2.07 0-2.86zM5.41 20L4 18.59l7.72-7.72 1.47 1.35L5.41 20z\"/>\n",
              "  </svg>\n",
              "      </button>\n",
              "      \n",
              "  <style>\n",
              "    .colab-df-container {\n",
              "      display:flex;\n",
              "      flex-wrap:wrap;\n",
              "      gap: 12px;\n",
              "    }\n",
              "\n",
              "    .colab-df-convert {\n",
              "      background-color: #E8F0FE;\n",
              "      border: none;\n",
              "      border-radius: 50%;\n",
              "      cursor: pointer;\n",
              "      display: none;\n",
              "      fill: #1967D2;\n",
              "      height: 32px;\n",
              "      padding: 0 0 0 0;\n",
              "      width: 32px;\n",
              "    }\n",
              "\n",
              "    .colab-df-convert:hover {\n",
              "      background-color: #E2EBFA;\n",
              "      box-shadow: 0px 1px 2px rgba(60, 64, 67, 0.3), 0px 1px 3px 1px rgba(60, 64, 67, 0.15);\n",
              "      fill: #174EA6;\n",
              "    }\n",
              "\n",
              "    [theme=dark] .colab-df-convert {\n",
              "      background-color: #3B4455;\n",
              "      fill: #D2E3FC;\n",
              "    }\n",
              "\n",
              "    [theme=dark] .colab-df-convert:hover {\n",
              "      background-color: #434B5C;\n",
              "      box-shadow: 0px 1px 3px 1px rgba(0, 0, 0, 0.15);\n",
              "      filter: drop-shadow(0px 1px 2px rgba(0, 0, 0, 0.3));\n",
              "      fill: #FFFFFF;\n",
              "    }\n",
              "  </style>\n",
              "\n",
              "      <script>\n",
              "        const buttonEl =\n",
              "          document.querySelector('#df-ce9f02b8-227d-406b-8901-82d2d8cb813d button.colab-df-convert');\n",
              "        buttonEl.style.display =\n",
              "          google.colab.kernel.accessAllowed ? 'block' : 'none';\n",
              "\n",
              "        async function convertToInteractive(key) {\n",
              "          const element = document.querySelector('#df-ce9f02b8-227d-406b-8901-82d2d8cb813d');\n",
              "          const dataTable =\n",
              "            await google.colab.kernel.invokeFunction('convertToInteractive',\n",
              "                                                     [key], {});\n",
              "          if (!dataTable) return;\n",
              "\n",
              "          const docLinkHtml = 'Like what you see? Visit the ' +\n",
              "            '<a target=\"_blank\" href=https://colab.research.google.com/notebooks/data_table.ipynb>data table notebook</a>'\n",
              "            + ' to learn more about interactive tables.';\n",
              "          element.innerHTML = '';\n",
              "          dataTable['output_type'] = 'display_data';\n",
              "          await google.colab.output.renderOutput(dataTable, element);\n",
              "          const docLink = document.createElement('div');\n",
              "          docLink.innerHTML = docLinkHtml;\n",
              "          element.appendChild(docLink);\n",
              "        }\n",
              "      </script>\n",
              "    </div>\n",
              "  </div>\n",
              "  "
            ]
          },
          "metadata": {},
          "execution_count": 12
        }
      ]
    },
    {
      "cell_type": "code",
      "source": [
        "data2.corr(method='spearman')"
      ],
      "metadata": {
        "colab": {
          "base_uri": "https://localhost:8080/",
          "height": 112
        },
        "id": "SRUhoCHBtVmY",
        "outputId": "be902da6-6571-49a9-e7f9-17db089b31e4"
      },
      "id": "SRUhoCHBtVmY",
      "execution_count": null,
      "outputs": [
        {
          "output_type": "execute_result",
          "data": {
            "text/plain": [
              "              time  position\n",
              "time      1.000000 -0.217605\n",
              "position -0.217605  1.000000"
            ],
            "text/html": [
              "\n",
              "  <div id=\"df-72871bfb-e9a2-4489-a1ff-e11e47dd11ba\">\n",
              "    <div class=\"colab-df-container\">\n",
              "      <div>\n",
              "<style scoped>\n",
              "    .dataframe tbody tr th:only-of-type {\n",
              "        vertical-align: middle;\n",
              "    }\n",
              "\n",
              "    .dataframe tbody tr th {\n",
              "        vertical-align: top;\n",
              "    }\n",
              "\n",
              "    .dataframe thead th {\n",
              "        text-align: right;\n",
              "    }\n",
              "</style>\n",
              "<table border=\"1\" class=\"dataframe\">\n",
              "  <thead>\n",
              "    <tr style=\"text-align: right;\">\n",
              "      <th></th>\n",
              "      <th>time</th>\n",
              "      <th>position</th>\n",
              "    </tr>\n",
              "  </thead>\n",
              "  <tbody>\n",
              "    <tr>\n",
              "      <th>time</th>\n",
              "      <td>1.000000</td>\n",
              "      <td>-0.217605</td>\n",
              "    </tr>\n",
              "    <tr>\n",
              "      <th>position</th>\n",
              "      <td>-0.217605</td>\n",
              "      <td>1.000000</td>\n",
              "    </tr>\n",
              "  </tbody>\n",
              "</table>\n",
              "</div>\n",
              "      <button class=\"colab-df-convert\" onclick=\"convertToInteractive('df-72871bfb-e9a2-4489-a1ff-e11e47dd11ba')\"\n",
              "              title=\"Convert this dataframe to an interactive table.\"\n",
              "              style=\"display:none;\">\n",
              "        \n",
              "  <svg xmlns=\"http://www.w3.org/2000/svg\" height=\"24px\"viewBox=\"0 0 24 24\"\n",
              "       width=\"24px\">\n",
              "    <path d=\"M0 0h24v24H0V0z\" fill=\"none\"/>\n",
              "    <path d=\"M18.56 5.44l.94 2.06.94-2.06 2.06-.94-2.06-.94-.94-2.06-.94 2.06-2.06.94zm-11 1L8.5 8.5l.94-2.06 2.06-.94-2.06-.94L8.5 2.5l-.94 2.06-2.06.94zm10 10l.94 2.06.94-2.06 2.06-.94-2.06-.94-.94-2.06-.94 2.06-2.06.94z\"/><path d=\"M17.41 7.96l-1.37-1.37c-.4-.4-.92-.59-1.43-.59-.52 0-1.04.2-1.43.59L10.3 9.45l-7.72 7.72c-.78.78-.78 2.05 0 2.83L4 21.41c.39.39.9.59 1.41.59.51 0 1.02-.2 1.41-.59l7.78-7.78 2.81-2.81c.8-.78.8-2.07 0-2.86zM5.41 20L4 18.59l7.72-7.72 1.47 1.35L5.41 20z\"/>\n",
              "  </svg>\n",
              "      </button>\n",
              "      \n",
              "  <style>\n",
              "    .colab-df-container {\n",
              "      display:flex;\n",
              "      flex-wrap:wrap;\n",
              "      gap: 12px;\n",
              "    }\n",
              "\n",
              "    .colab-df-convert {\n",
              "      background-color: #E8F0FE;\n",
              "      border: none;\n",
              "      border-radius: 50%;\n",
              "      cursor: pointer;\n",
              "      display: none;\n",
              "      fill: #1967D2;\n",
              "      height: 32px;\n",
              "      padding: 0 0 0 0;\n",
              "      width: 32px;\n",
              "    }\n",
              "\n",
              "    .colab-df-convert:hover {\n",
              "      background-color: #E2EBFA;\n",
              "      box-shadow: 0px 1px 2px rgba(60, 64, 67, 0.3), 0px 1px 3px 1px rgba(60, 64, 67, 0.15);\n",
              "      fill: #174EA6;\n",
              "    }\n",
              "\n",
              "    [theme=dark] .colab-df-convert {\n",
              "      background-color: #3B4455;\n",
              "      fill: #D2E3FC;\n",
              "    }\n",
              "\n",
              "    [theme=dark] .colab-df-convert:hover {\n",
              "      background-color: #434B5C;\n",
              "      box-shadow: 0px 1px 3px 1px rgba(0, 0, 0, 0.15);\n",
              "      filter: drop-shadow(0px 1px 2px rgba(0, 0, 0, 0.3));\n",
              "      fill: #FFFFFF;\n",
              "    }\n",
              "  </style>\n",
              "\n",
              "      <script>\n",
              "        const buttonEl =\n",
              "          document.querySelector('#df-72871bfb-e9a2-4489-a1ff-e11e47dd11ba button.colab-df-convert');\n",
              "        buttonEl.style.display =\n",
              "          google.colab.kernel.accessAllowed ? 'block' : 'none';\n",
              "\n",
              "        async function convertToInteractive(key) {\n",
              "          const element = document.querySelector('#df-72871bfb-e9a2-4489-a1ff-e11e47dd11ba');\n",
              "          const dataTable =\n",
              "            await google.colab.kernel.invokeFunction('convertToInteractive',\n",
              "                                                     [key], {});\n",
              "          if (!dataTable) return;\n",
              "\n",
              "          const docLinkHtml = 'Like what you see? Visit the ' +\n",
              "            '<a target=\"_blank\" href=https://colab.research.google.com/notebooks/data_table.ipynb>data table notebook</a>'\n",
              "            + ' to learn more about interactive tables.';\n",
              "          element.innerHTML = '';\n",
              "          dataTable['output_type'] = 'display_data';\n",
              "          await google.colab.output.renderOutput(dataTable, element);\n",
              "          const docLink = document.createElement('div');\n",
              "          docLink.innerHTML = docLinkHtml;\n",
              "          element.appendChild(docLink);\n",
              "        }\n",
              "      </script>\n",
              "    </div>\n",
              "  </div>\n",
              "  "
            ]
          },
          "metadata": {},
          "execution_count": 13
        }
      ]
    },
    {
      "cell_type": "code",
      "source": [
        "pval_res = ss.spearmanr(time_data, pos_data)\n",
        "pval_res.pvalue"
      ],
      "metadata": {
        "colab": {
          "base_uri": "https://localhost:8080/"
        },
        "id": "Z895LaMdtYZj",
        "outputId": "b4177cb7-6daa-4d7a-ecdf-e6e0726b9a9d"
      },
      "id": "Z895LaMdtYZj",
      "execution_count": null,
      "outputs": [
        {
          "output_type": "execute_result",
          "data": {
            "text/plain": [
              "0.0012433899481196276"
            ]
          },
          "metadata": {},
          "execution_count": 14
        }
      ]
    },
    {
      "cell_type": "code",
      "source": [
        "def pval_graph_spearman(n):\n",
        "  x, y = 0,0\n",
        "  simulation_s = np.arange(n + 1)\n",
        "  pval_s = [y]\n",
        "  for i in range(1, n+1):\n",
        "    time_data, pos_data = randomwalk1D(1000)\n",
        "    pval_res = ss.spearmanr(time_data, pos_data)\n",
        "    y = pval_res.pvalue\n",
        "    pval_s.append(y)\n",
        "  return simulation_s, pval_s\n"
      ],
      "metadata": {
        "id": "2PPvBrL8uakJ"
      },
      "id": "2PPvBrL8uakJ",
      "execution_count": null,
      "outputs": []
    },
    {
      "cell_type": "code",
      "source": [
        "simulation_s, pval_s = pval_graph_spearman(1000)\n",
        "plt.plot(simulation_s, pval_s, 'r-')\n",
        "plt.title(\"Plot of p values for spearmans rank correlation test\")\n",
        "plt.show()"
      ],
      "metadata": {
        "colab": {
          "base_uri": "https://localhost:8080/",
          "height": 281
        },
        "id": "1vB83syZrPJ3",
        "outputId": "e9bfde96-8088-4e99-9bbd-1149d850c2ae"
      },
      "id": "1vB83syZrPJ3",
      "execution_count": null,
      "outputs": [
        {
          "output_type": "display_data",
          "data": {
            "text/plain": [
              "<Figure size 432x288 with 1 Axes>"
            ],
            "image/png": "[encoded data removed]"
          },
          "metadata": {
            "needs_background": "light"
          }
        }
      ]
    },
    {
      "cell_type": "code",
      "source": [
        "pval_s"
      ],
      "metadata": {
        "colab": {
          "base_uri": "https://localhost:8080/"
        },
        "id": "eJ4QZ7Tv99u-",
        "outputId": "4e9b7c24-070b-4595-a38a-ebddcfb54119"
      },
      "id": "eJ4QZ7Tv99u-",
      "execution_count": null,
      "outputs": [
        {
          "output_type": "execute_result",
          "data": {
            "text/plain": [
              "[0,\n",
              " 0.0002460411505342802,\n",
              " 2.566797413931636e-38,\n",
              " 1.1563024644554284e-25,\n",
              " 5.2152324830249585e-298,\n",
              " 0.0,\n",
              " 9.958276942060571e-204,\n",
              " 2.215584477533628e-290,\n",
              " 2.862159892839384e-223,\n",
              " 0.00010588176740354187,\n",
              " 3.9120211882391583e-10,\n",
              " 1.6736230501896375e-303,\n",
              " 0.5376225777014635,\n",
              " 1.0826968587434717e-83,\n",
              " 2.9716213865111327e-233,\n",
              " 0.0001881678360470997,\n",
              " 8.100336594384742e-89,\n",
              " 3.4985249834164146e-278,\n",
              " 0.0,\n",
              " 2.824687488285715e-102,\n",
              " 3.418869635276901e-09,\n",
              " 0.0,\n",
              " 0.00015650855783968268,\n",
              " 1.68964931760409e-293,\n",
              " 4.1184760236220716e-142,\n",
              " 0.0,\n",
              " 1.70325434701903e-18,\n",
              " 5.627001169127982e-07,\n",
              " 3.708186372200146e-173,\n",
              " 5.911371614117425e-237,\n",
              " 1.398848083057785e-194,\n",
              " 2.59635804356368e-07,\n",
              " 0.0320851301201662,\n",
              " 2.609486099835408e-102,\n",
              " 2.5481933899165207e-56,\n",
              " 5.373001972959871e-48,\n",
              " 3.088422718156189e-190,\n",
              " 9.76336840585721e-118,\n",
              " 3.5546394668944145e-129,\n",
              " 6.175784052125884e-228,\n",
              " 0.0,\n",
              " 0.0,\n",
              " 0.0,\n",
              " 9.82485818076153e-143,\n",
              " 0.10665980480964127,\n",
              " 2.4535283499295095e-11,\n",
              " 1.822455271230086e-29,\n",
              " 1.465139265102548e-83,\n",
              " 0.06147756011368757,\n",
              " 1.66402289707931e-308,\n",
              " 2.614232115566638e-13,\n",
              " 4.86612039297951e-111,\n",
              " 0.0,\n",
              " 2.678563190906609e-186,\n",
              " 0.0,\n",
              " 3.557176540052737e-71,\n",
              " 2.152048185395719e-15,\n",
              " 1.4719654560951504e-16,\n",
              " 0.0,\n",
              " 0.0,\n",
              " 0.0,\n",
              " 5.037854588686867e-05,\n",
              " 6.325366604912671e-200,\n",
              " 1.3066085498641432e-27,\n",
              " 5.686694421509472e-49,\n",
              " 0.0,\n",
              " 0.0,\n",
              " 0.8519002606152482,\n",
              " 6.9083772541367445e-12,\n",
              " 9.584855301368373e-138,\n",
              " 1.7419383237390783e-35,\n",
              " 0.08603374508867015,\n",
              " 3.762086907394374e-06,\n",
              " 1.8153244154716599e-41,\n",
              " 4.453331897612886e-48,\n",
              " 3.205644800881904e-175,\n",
              " 8.872675881580652e-09,\n",
              " 3.372087957263885e-27,\n",
              " 0.07337010725487468,\n",
              " 1.5229640888680693e-51,\n",
              " 1.7688861705571728e-44,\n",
              " 3.9177208793735787e-103,\n",
              " 2.169388511430564e-50,\n",
              " 0.0007894247070495003,\n",
              " 6.952346073730117e-09,\n",
              " 8.012601485858893e-75,\n",
              " 4.5881008344468544e-265,\n",
              " 4.296889270890002e-301,\n",
              " 2.7253257526346923e-46,\n",
              " 7.342769036372326e-306,\n",
              " 4.41700589204186e-52,\n",
              " 3.3365145668230548e-276,\n",
              " 3.779481018991042e-32,\n",
              " 3.7647305794546164e-09,\n",
              " 0.0,\n",
              " 2.4386671430169802e-241,\n",
              " 2.3547467123042191e-150,\n",
              " 0.0,\n",
              " 1.3378991315228853e-161,\n",
              " 3.6951207424483244e-163,\n",
              " 3.795375617482405e-69,\n",
              " 3.1513104028024717e-62,\n",
              " 9.616562412650697e-06,\n",
              " 8.036981613833511e-187,\n",
              " 0.0,\n",
              " 5.8657824280892365e-124,\n",
              " 1.4481165373212409e-130,\n",
              " 0.0,\n",
              " 1.4859091462550719e-130,\n",
              " 1.936058294244645e-308,\n",
              " 1.5408374227428132e-56,\n",
              " 1.2964628195714642e-24,\n",
              " 0.0,\n",
              " 0.0,\n",
              " 2.013700981387318e-14,\n",
              " 3.8638822610681685e-82,\n",
              " 0.0,\n",
              " 4.1436230867036145e-14,\n",
              " 0.0,\n",
              " 3.959378493153658e-08,\n",
              " 2.6043188105872086e-29,\n",
              " 3.6376995315040744e-32,\n",
              " 3.689147250187297e-48,\n",
              " 0.31656983586708354,\n",
              " 4.897035207324644e-59,\n",
              " 0.003155299870477783,\n",
              " 3.377311216880618e-79,\n",
              " 1.1274151282133817e-44,\n",
              " 1.519784589021599e-11,\n",
              " 0.004187191426316438,\n",
              " 1.627673458588667e-93,\n",
              " 2.77e-322,\n",
              " 2.748307581904667e-38,\n",
              " 3.7636242685932685e-60,\n",
              " 5.6199666483111975e-58,\n",
              " 4.1059742652691347e-79,\n",
              " 5.269111034093569e-45,\n",
              " 3.456083861541014e-36,\n",
              " 1.8391034352638404e-49,\n",
              " 2.541629332784213e-115,\n",
              " 0.0,\n",
              " 4.4344756148931427e-262,\n",
              " 1.650052169276371e-263,\n",
              " 0.050066046105926035,\n",
              " 6.14474657352273e-130,\n",
              " 1.8223146331851603e-187,\n",
              " 0.0,\n",
              " 0.0,\n",
              " 2.7566192302852687e-90,\n",
              " 1.7278622459495747e-136,\n",
              " 0.46953661752061693,\n",
              " 1.668067010890654e-145,\n",
              " 2.588371817842021e-194,\n",
              " 2.2634823011400636e-171,\n",
              " 6.791359701587802e-300,\n",
              " 8.943952739226882e-60,\n",
              " 1.1583554493638087e-15,\n",
              " 4.0914603732998134e-268,\n",
              " 8.098060558514839e-212,\n",
              " 4.306189824839503e-16,\n",
              " 3.365217155002597e-78,\n",
              " 4.402773382503795e-189,\n",
              " 4.6545740236775244e-216,\n",
              " 4.687817849850299e-62,\n",
              " 1.3577849000407571e-272,\n",
              " 5.736239512228149e-79,\n",
              " 0.0,\n",
              " 0.014069173461451678,\n",
              " 0.0,\n",
              " 1.3608907062664606e-11,\n",
              " 9.937889958874599e-126,\n",
              " 3.1371903533681664e-150,\n",
              " 0.0,\n",
              " 1.3985920225477396e-05,\n",
              " 4.0437995255915806e-153,\n",
              " 5.240670681485708e-224,\n",
              " 5.633688525964967e-305,\n",
              " 8.710459402223652e-05,\n",
              " 1.6472618097610338e-197,\n",
              " 0.0,\n",
              " 1.3430128528266425e-265,\n",
              " 0.0,\n",
              " 9.648290908879239e-46,\n",
              " 1.4642633353510036e-306,\n",
              " 7.185505477525015e-35,\n",
              " 9.460405009984547e-81,\n",
              " 2.5236117508342916e-178,\n",
              " 1.6543816223416256e-276,\n",
              " 3.802405434758752e-265,\n",
              " 1.8487224719610527e-45,\n",
              " 2.2322994344308394e-210,\n",
              " 5.036919463551106e-48,\n",
              " 7.984317235716288e-134,\n",
              " 7.598499530572852e-269,\n",
              " 2.3450760018044234e-22,\n",
              " 0.0,\n",
              " 0.0,\n",
              " 1.8603643647115681e-152,\n",
              " 6.431211926521803e-173,\n",
              " 3.922312178773631e-146,\n",
              " 0.0,\n",
              " 8.256094365378176e-207,\n",
              " 0.0,\n",
              " 3.1861783440255182e-24,\n",
              " 1.2687331325057184e-38,\n",
              " 5.4180975056553434e-294,\n",
              " 2.65599100596049e-153,\n",
              " 1.9676819882071342e-258,\n",
              " 1.3018961304548378e-51,\n",
              " 0.05293265288552886,\n",
              " 0.0,\n",
              " 6.455338206134032e-170,\n",
              " 1.8644536397583432e-32,\n",
              " 2.442664803728151e-06,\n",
              " 0.4658901242022263,\n",
              " 9.280770674080572e-190,\n",
              " 4.445593071961422e-111,\n",
              " 0.0,\n",
              " 6.862093447481e-05,\n",
              " 2.3309042157819307e-19,\n",
              " 3.3880018959132755e-72,\n",
              " 0.0,\n",
              " 1.2738676699270001e-48,\n",
              " 0.0,\n",
              " 5.272649129874943e-41,\n",
              " 1.28707e-318,\n",
              " 1.8172200558072487e-98,\n",
              " 1.0334489536898824e-46,\n",
              " 0.0023737612697701605,\n",
              " 0.0,\n",
              " 3.1014724093841784e-45,\n",
              " 1.6469216206371124e-20,\n",
              " 7.330981939943006e-262,\n",
              " 1.919566133020752e-159,\n",
              " 1.4161256566219487e-302,\n",
              " 5.4199304725254615e-126,\n",
              " 1.137159371475869e-16,\n",
              " 1.6873188011527728e-160,\n",
              " 1.816115594982483e-74,\n",
              " 9.208991188440401e-57,\n",
              " 0.0,\n",
              " 1.3067474793774463e-260,\n",
              " 0.0,\n",
              " 0.0,\n",
              " 1.6983822394352088e-127,\n",
              " 1.388056367996075e-271,\n",
              " 1.6454942468971741e-22,\n",
              " 9.980255302863671e-167,\n",
              " 2.1122452651573154e-14,\n",
              " 0.0,\n",
              " 4.612350439813981e-139,\n",
              " 0.17804737790222863,\n",
              " 4.296967763548973e-37,\n",
              " 9.765998618440774e-245,\n",
              " 1.175439926965214e-54,\n",
              " 0.0,\n",
              " 0.0,\n",
              " 7.622994058303052e-54,\n",
              " 0.0,\n",
              " 7.95841012401839e-12,\n",
              " 6.151623836368858e-15,\n",
              " 8.2329287e-316,\n",
              " 6.667472189996446e-14,\n",
              " 0.0,\n",
              " 9.132897721833807e-187,\n",
              " 2.669403400444755e-68,\n",
              " 5.4403736719510535e-46,\n",
              " 1.106467941445762e-81,\n",
              " 2.748644289696582e-05,\n",
              " 9.940253377481121e-54,\n",
              " 2.9757001046341234e-13,\n",
              " 4.092500788602282e-114,\n",
              " 1.8177413579806407e-11,\n",
              " 0.0,\n",
              " 2.4561870888014024e-89,\n",
              " 0.0,\n",
              " 0.9228253784611344,\n",
              " 0.0,\n",
              " 1.3884207279280393e-20,\n",
              " 4.6375754537725785e-71,\n",
              " 1.0995054049806732e-27,\n",
              " 8.985946932942003e-83,\n",
              " 9.133698693151851e-32,\n",
              " 1.2800271339478544e-77,\n",
              " 1.6096172133666975e-16,\n",
              " 1.899400223108632e-168,\n",
              " 3.556730372829392e-215,\n",
              " 0.5855288049090557,\n",
              " 1.6081314138219017e-275,\n",
              " 2.4709424028397056e-154,\n",
              " 0.00010910556252240937,\n",
              " 1.3897483653983327e-109,\n",
              " 2.5700643762996725e-148,\n",
              " 3.9966948718492965e-189,\n",
              " 4.019884435537048e-138,\n",
              " 1.4168179755560342e-32,\n",
              " 7.316363767403596e-63,\n",
              " 0.0,\n",
              " 3.3483706457462035e-211,\n",
              " 9.371933267342526e-76,\n",
              " 1.1198876129593433e-134,\n",
              " 2.3750238603102575e-282,\n",
              " 0.00372467722355514,\n",
              " 4.4820965421144674e-228,\n",
              " 1.1187453177535067e-193,\n",
              " 8.928812824121815e-122,\n",
              " 0.42923528805932465,\n",
              " 5.695779501843803e-225,\n",
              " 1.4327248736780537e-302,\n",
              " 2.0701398248074742e-117,\n",
              " 1.4414175266639441e-59,\n",
              " 1.4396309664692063e-300,\n",
              " 6.791073497280386e-281,\n",
              " 0.0,\n",
              " 3.170407606445228e-12,\n",
              " 2.929892174398231e-14,\n",
              " 1.4738829597326407e-72,\n",
              " 0.0,\n",
              " 3.759783325885847e-120,\n",
              " 1.7513468576634338e-53,\n",
              " 0.23450248071279522,\n",
              " 3.7879191672163394e-100,\n",
              " 1.3595875246177905e-132,\n",
              " 0.0,\n",
              " 1.0834906752095663e-92,\n",
              " 0.0,\n",
              " 0.00016066443759490669,\n",
              " 0.7144779099889482,\n",
              " 1.1170030937788559e-29,\n",
              " 1.4831519420691264e-19,\n",
              " 7.115714669848766e-06,\n",
              " 8.631046951080868e-80,\n",
              " 6.03743799063381e-11,\n",
              " 3.0169432150667584e-69,\n",
              " 3.747354922760199e-155,\n",
              " 0.0,\n",
              " 7.937858430337724e-151,\n",
              " 1.7677418965272226e-50,\n",
              " 7.285637434214188e-41,\n",
              " 4.418251423252728e-19,\n",
              " 0.020944723657640333,\n",
              " 1.9495907601823884e-70,\n",
              " 0.0,\n",
              " 6.925635670367722e-45,\n",
              " 0.0,\n",
              " 5.657542738286837e-154,\n",
              " 0.0,\n",
              " 5.039203186693008e-174,\n",
              " 2.7136631814083243e-153,\n",
              " 0.0,\n",
              " 0.0,\n",
              " 0.0,\n",
              " 4.1975473822298214e-54,\n",
              " 2.7686910641160232e-08,\n",
              " 1.2272037144854187e-134,\n",
              " 2.7859986788495747e-37,\n",
              " 4.5389931933123576e-259,\n",
              " 0.0916900618322384,\n",
              " 0.6585917704658257,\n",
              " 0.0,\n",
              " 8.207032577313874e-113,\n",
              " 1.3506201557585358e-36,\n",
              " 2.123871255424864e-34,\n",
              " 1.7e-321,\n",
              " 5.375283385143163e-142,\n",
              " 0.0,\n",
              " 7.117289676317207e-147,\n",
              " 3.3954023847369854e-09,\n",
              " 6.43303e-319,\n",
              " 2.11352438839723e-98,\n",
              " 0.04472142541447195,\n",
              " 5.839920371487041e-34,\n",
              " 1.0440254682649245e-47,\n",
              " 6.611667446055901e-192,\n",
              " 2.1486660325153483e-10,\n",
              " 5.516461139590337e-226,\n",
              " 8.555542151993754e-65,\n",
              " 2.189933911974419e-36,\n",
              " 2.267525644861227e-38,\n",
              " 0.0,\n",
              " 1.1907157528039466e-75,\n",
              " 3.716358987372117e-20,\n",
              " 3.5055624683741086e-30,\n",
              " 2.094072881768345e-185,\n",
              " 0.0,\n",
              " 2.850113789373493e-209,\n",
              " 6.865372415544582e-108,\n",
              " 0.0,\n",
              " 2.2535763294509426e-07,\n",
              " 1.83832143913157e-97,\n",
              " 6.9405292851504205e-155,\n",
              " 5.6243181162769e-26,\n",
              " 0.0,\n",
              " 5.7135592102817234e-185,\n",
              " 9.300899381253135e-154,\n",
              " 7.264927e-317,\n",
              " 0.0,\n",
              " 3.6142656908124376e-08,\n",
              " 5.277520000003427e-134,\n",
              " 2.2668653237028725e-07,\n",
              " 3.7356711950924475e-26,\n",
              " 7.135437697479243e-265,\n",
              " 0.08401911810807276,\n",
              " 1.7046179397446455e-25,\n",
              " 1.8247060621270066e-40,\n",
              " 0.0001282556179158364,\n",
              " 1.5377986592151683e-42,\n",
              " 1.2249826024671476e-103,\n",
              " 0.0,\n",
              " 2.7903817300564234e-158,\n",
              " 0.0,\n",
              " 2.3421913413654842e-36,\n",
              " 8.62440826135e-313,\n",
              " 0.30373843104040676,\n",
              " 0.0,\n",
              " 1.4972749199792058e-255,\n",
              " 2.7604549585480206e-38,\n",
              " 0.20100195914145294,\n",
              " 1.1650752632202646e-110,\n",
              " 0.03873558547105664,\n",
              " 2.105363568708896e-36,\n",
              " 7.590175366579974e-80,\n",
              " 4.318910864026943e-15,\n",
              " 2.310917626356584e-55,\n",
              " 1.1391888573389984e-13,\n",
              " 0.0,\n",
              " 1.3527072383726255e-169,\n",
              " 1.3991672737890008e-38,\n",
              " 1.6601125373629306e-118,\n",
              " 1.6456364340017025e-60,\n",
              " 0.13600600842878985,\n",
              " 3.077338663718328e-270,\n",
              " 5.889497976720383e-78,\n",
              " 0.0,\n",
              " 3.994288429919525e-252,\n",
              " 8.73338493595197e-49,\n",
              " 3.575338874174553e-277,\n",
              " 8.79975845948015e-268,\n",
              " 0.0,\n",
              " 7.796201344653452e-34,\n",
              " 1.784267689746997e-24,\n",
              " 8.35625112154602e-199,\n",
              " 2.837341430136713e-250,\n",
              " 1.3526575778060212e-118,\n",
              " 0.25762329879292223,\n",
              " 2.821807936066784e-51,\n",
              " 5.544371210286e-312,\n",
              " 4.0705301281877477e-07,\n",
              " 0.0,\n",
              " 3.758895210008198e-234,\n",
              " 0.05408936205079032,\n",
              " 1.0708685093015626e-51,\n",
              " 4.0293862871684467e-17,\n",
              " 8.432938748564593e-209,\n",
              " 6.990565201931873e-10,\n",
              " 0.0,\n",
              " 3.574525478043211e-10,\n",
              " 4.838466469652641e-30,\n",
              " 5.821427189773549e-31,\n",
              " 5.380878074673512e-81,\n",
              " 0.0,\n",
              " 0.0,\n",
              " 5.052404029236671e-237,\n",
              " 3.6601795926314124e-35,\n",
              " 3.3675115761605277e-202,\n",
              " 0.0,\n",
              " 1.1876934339347249e-254,\n",
              " 4.324333384957285e-56,\n",
              " 4.90208925710256e-211,\n",
              " 8.004376706891236e-60,\n",
              " 0.0,\n",
              " 3.4862030232693577e-140,\n",
              " 3.8630486242167856e-33,\n",
              " 3.90212691998981e-74,\n",
              " 4.6353716636982556e-15,\n",
              " 3.722620319531671e-27,\n",
              " 4.385548416449635e-26,\n",
              " 4.713030414470195e-07,\n",
              " 1.447151869977852e-19,\n",
              " 3.532156504380274e-263,\n",
              " 0.0,\n",
              " 0.504472649148981,\n",
              " 1.60461132423869e-46,\n",
              " 3.2502986680633483e-77,\n",
              " 0.0,\n",
              " 2.742807837372479e-49,\n",
              " 1.2495597508706054e-97,\n",
              " 8.782107696496232e-273,\n",
              " 0.18803315821151165,\n",
              " 4.7429294656096414e-30,\n",
              " 2.577820143212632e-36,\n",
              " 7.833246933971038e-92,\n",
              " 1.2801068126334782e-96,\n",
              " 0.08800763268232933,\n",
              " 6.072321984944255e-38,\n",
              " 1.566241198550567e-28,\n",
              " 2.5570144385877147e-23,\n",
              " 6.694482281275295e-236,\n",
              " 7.243196819003208e-74,\n",
              " 0.10492927257816269,\n",
              " 5.94088776751243e-14,\n",
              " 1.402735113060369e-30,\n",
              " 2.0686622178459139e-13,\n",
              " 0.0,\n",
              " 1.2638853715071496e-23,\n",
              " 6.1183715552405146e-114,\n",
              " 5.573662908251674e-29,\n",
              " 1.081401518600859e-09,\n",
              " 1.7686397852494611e-59,\n",
              " 1.7547358366333887e-281,\n",
              " 1.2244653827082602e-146,\n",
              " 3.6564824042997833e-65,\n",
              " 5.569100222039747e-90,\n",
              " 1.9341916302879175e-22,\n",
              " 9.510816967183167e-46,\n",
              " 6.37731227558062e-62,\n",
              " 1.2829656153269902e-219,\n",
              " 2.4412527981389893e-65,\n",
              " 5.298963253563116e-98,\n",
              " 4.438392805534788e-38,\n",
              " 1.931036997699391e-69,\n",
              " 5.9267505195942366e-210,\n",
              " 1.6248177034670652e-122,\n",
              " 4.850494912195e-312,\n",
              " 2.1823121276245637e-170,\n",
              " 6.343237414270062e-191,\n",
              " 4.514500126855672e-08,\n",
              " 1.3172645490791208e-24,\n",
              " 2.7995469232559124e-222,\n",
              " 1.2416071018326355e-40,\n",
              " 1.4200471572234415e-53,\n",
              " 3.22742810375541e-58,\n",
              " 6.5271652192998584e-226,\n",
              " 1.4831433012253636e-156,\n",
              " 0.005289578254702706,\n",
              " 1.03852729203688e-272,\n",
              " 1.7773749983935194e-53,\n",
              " 2.051599217043843e-123,\n",
              " 9.324640383187305e-61,\n",
              " 7.351020552432789e-54,\n",
              " 2.2027054729459078e-54,\n",
              " 5.490695397011707e-38,\n",
              " 1.3355622028326134e-20,\n",
              " 3.665111462035952e-233,\n",
              " 0.0,\n",
              " 1.0555001030867139e-77,\n",
              " 7.30263645064914e-166,\n",
              " 1.2502738931811899e-86,\n",
              " 6.768979118967557e-252,\n",
              " 0.07996989916328635,\n",
              " 6.227887145139433e-42,\n",
              " 0.0,\n",
              " 7.95374978987563e-24,\n",
              " 1.5835813366990632e-10,\n",
              " 8.635193067980048e-130,\n",
              " 2.3725671708163563e-301,\n",
              " 1.6231311134985724e-17,\n",
              " 0.00011070551667347003,\n",
              " 7.52206016047501e-252,\n",
              " 0.0,\n",
              " 6.282610350159699e-119,\n",
              " 3.048271157783332e-233,\n",
              " 1.4609533786938436e-127,\n",
              " 0.0,\n",
              " 0.6266992569669086,\n",
              " 1.4723452417225356e-60,\n",
              " 1.7920210945071425e-50,\n",
              " 2.688572196817241e-38,\n",
              " 2.0211978151770045e-148,\n",
              " 3.439631475134434e-116,\n",
              " 1.2906503922170954e-224,\n",
              " 1.1230883244407533e-07,\n",
              " 4.6105858895388325e-108,\n",
              " 3.130086755963867e-13,\n",
              " 1.109563879036078e-294,\n",
              " 6.511451653885003e-271,\n",
              " 7.553556355480981e-75,\n",
              " 3.7973200830302205e-68,\n",
              " 0.8543101120859167,\n",
              " 5.365107263458476e-112,\n",
              " 2.1077827396309857e-63,\n",
              " 0.0,\n",
              " 8.711375994702567e-13,\n",
              " 4.8436280637875193e-29,\n",
              " 0.0,\n",
              " 5.0704681618707966e-144,\n",
              " 0.0,\n",
              " 7.562825310884642e-114,\n",
              " 2.51227094966827e-267,\n",
              " 3.2200770780729595e-216,\n",
              " 2.6105508777431862e-83,\n",
              " 1.6386608150191116e-133,\n",
              " 3.375432628569945e-66,\n",
              " 4.016542195217974e-110,\n",
              " 0.4088398188953838,\n",
              " 4.846373657441116e-199,\n",
              " 1.0715176922423098e-146,\n",
              " 0.0,\n",
              " 3.2604908459189425e-25,\n",
              " 3.26040383378369e-05,\n",
              " 1.897172630406405e-58,\n",
              " 2e-322,\n",
              " 0.4922966117530392,\n",
              " 7.225135088268334e-19,\n",
              " 1.941263828918322e-12,\n",
              " 0.0,\n",
              " 0.0,\n",
              " 6.785786720796246e-69,\n",
              " 0.0,\n",
              " 4.307916780524582e-196,\n",
              " 5.371549071743703e-29,\n",
              " 0.0,\n",
              " 0.2373014280443102,\n",
              " 0.0,\n",
              " 0.0,\n",
              " 1.173701055443533e-47,\n",
              " 6.114078414601385e-61,\n",
              " 5.740266685333652e-115,\n",
              " 2.5644998067853014e-169,\n",
              " 1.7076772423041202e-27,\n",
              " 0.0,\n",
              " 2.5063753443244883e-219,\n",
              " 0.0,\n",
              " 0.0,\n",
              " 0.005312564968575529,\n",
              " 0.0,\n",
              " 5.819046675909399e-58,\n",
              " 1.343785769751848e-06,\n",
              " 1.1686377421787417e-15,\n",
              " 8.256705649224371e-10,\n",
              " 6.483470781699387e-42,\n",
              " 7.865483429791691e-133,\n",
              " 8.460450139890176e-185,\n",
              " 3.0756088518606635e-68,\n",
              " 3.812129816104482e-198,\n",
              " 2.8869967818201133e-128,\n",
              " 1.0302274006561983e-242,\n",
              " 7.676707388628271e-138,\n",
              " 5.978473583870869e-198,\n",
              " 6.600102296492986e-18,\n",
              " 6.842628594430609e-271,\n",
              " 1.377276979666855e-21,\n",
              " 8.090818931265642e-31,\n",
              " 4.8226609924993035e-43,\n",
              " 4.419148998313243e-64,\n",
              " 4.623653487783113e-41,\n",
              " 1.074494724742004e-98,\n",
              " 0.0,\n",
              " 1.4345698700220877e-10,\n",
              " 1.9582183929866734e-22,\n",
              " 0.0,\n",
              " 1.8287415556376142e-47,\n",
              " 6.41177903177715e-267,\n",
              " 7.738012813969555e-277,\n",
              " 1.483547214170125e-55,\n",
              " 0.0,\n",
              " 7.462690702126917e-40,\n",
              " 0.0,\n",
              " 6.425243607112859e-105,\n",
              " 4.527519486526761e-69,\n",
              " 0.047561826028100454,\n",
              " 8.096263536401443e-172,\n",
              " 3.622833331341152e-279,\n",
              " 0.020516790307789832,\n",
              " 0.000518677374501127,\n",
              " 2.875877170425702e-141,\n",
              " 3.7855016913303225e-53,\n",
              " 0.0,\n",
              " 0.0,\n",
              " 0.10377220053263204,\n",
              " 1.3155551090399747e-73,\n",
              " 3.9368434795631475e-11,\n",
              " 0.058048093598445295,\n",
              " 0.0,\n",
              " 1.3971530112926709e-56,\n",
              " 0.0,\n",
              " 1.4611168376916428e-31,\n",
              " 1.8307350930109294e-87,\n",
              " 8.5511363022164e-81,\n",
              " 7.848522483744233e-107,\n",
              " 3.1243950202264418e-158,\n",
              " 8.05155943726064e-301,\n",
              " 9.286087553875014e-264,\n",
              " 1.1552746013624697e-26,\n",
              " 1.476063889478204e-209,\n",
              " 7.566200142268705e-15,\n",
              " 6.624833523974068e-05,\n",
              " 1.5618947379185956e-64,\n",
              " 1.9373069413472466e-84,\n",
              " 2.755311663483813e-55,\n",
              " 2.4650362415115334e-84,\n",
              " 1.0056612155181207e-165,\n",
              " 0.0,\n",
              " 7.638065785772038e-117,\n",
              " 8.30052147394779e-60,\n",
              " 0.0024845535422379672,\n",
              " 0.0,\n",
              " 7.05160225644039e-45,\n",
              " 4.326666184912804e-89,\n",
              " 2.579467795356492e-272,\n",
              " 0.0,\n",
              " 4.699588206357713e-136,\n",
              " 5.445469365984932e-25,\n",
              " 9.062576438502795e-62,\n",
              " 5.503727449816172e-13,\n",
              " 1.278369631432403e-150,\n",
              " 2.147119949825695e-135,\n",
              " 1.7099559812989962e-22,\n",
              " 9.938090686779622e-45,\n",
              " 2.82038038243216e-90,\n",
              " 2.40014670787881e-225,\n",
              " 9.510400568439334e-50,\n",
              " 2.6247893560288187e-178,\n",
              " 6.049239261611401e-236,\n",
              " 1.7461132621873573e-70,\n",
              " 0.0,\n",
              " 8.864587823488604e-132,\n",
              " 5.0136743401628486e-86,\n",
              " 0.0,\n",
              " 5.687857191359986e-161,\n",
              " 3.3982375611616184e-116,\n",
              " 3.7284225875963715e-47,\n",
              " 8.537457183737036e-136,\n",
              " 4.452502446267989e-131,\n",
              " 0.0,\n",
              " 3.5772346142712584e-211,\n",
              " 0.0,\n",
              " 1.3158822014757233e-163,\n",
              " 4.580239738932089e-134,\n",
              " 0.03646453896201447,\n",
              " 3.731537897624363e-138,\n",
              " 6.038084466588335e-72,\n",
              " 3.898137535799097e-306,\n",
              " 1.5145554154705696e-49,\n",
              " 7.2934703300313715e-53,\n",
              " 4.51327268061052e-121,\n",
              " 2.1466111659212964e-270,\n",
              " 8.251264468e-314,\n",
              " 1.1686098873099483e-212,\n",
              " 3.938728848800774e-34,\n",
              " 5.155580998576628e-26,\n",
              " 0.0,\n",
              " 8.75071178197847e-05,\n",
              " 3.5097581873984856e-34,\n",
              " 0.0,\n",
              " 0.0,\n",
              " 3.5731993860173322e-71,\n",
              " 5.674766805354701e-292,\n",
              " 1.676277723318902e-38,\n",
              " 1.9332282119392575e-41,\n",
              " 0.0,\n",
              " 2.3482886977055437e-91,\n",
              " 6.43504606863397e-94,\n",
              " 0.0,\n",
              " 2.507889844686503e-244,\n",
              " 0.0,\n",
              " 9.550750616459243e-65,\n",
              " 8.212653458948554e-07,\n",
              " 0.0,\n",
              " 2.543683877543862e-144,\n",
              " 1.558848297008575e-130,\n",
              " 0.0,\n",
              " 5.57085828360598e-141,\n",
              " 1.1879465181973348e-97,\n",
              " 1.0933436732109853e-47,\n",
              " 2.7702421059968436e-72,\n",
              " 1.6139213009030469e-43,\n",
              " 1.3741550649006087e-19,\n",
              " 0.0,\n",
              " 2.113478491941939e-92,\n",
              " 6.517581239567913e-17,\n",
              " 0.0,\n",
              " 1.006887161379441e-24,\n",
              " 0.0,\n",
              " 2.6147706760127375e-181,\n",
              " 3.918082209250311e-218,\n",
              " 4.249987449071821e-102,\n",
              " 4.605363032201395e-106,\n",
              " 1.893392547387928e-53,\n",
              " 1.0849724884871389e-192,\n",
              " 1.5747997767344298e-16,\n",
              " 5.1722593176197536e-05,\n",
              " 8.2288443344e-314,\n",
              " 0.0,\n",
              " 0.0007654139348942776,\n",
              " 3.5907440346628454e-164,\n",
              " 9.557176943777847e-133,\n",
              " 2.6940411939692636e-34,\n",
              " 1.8977265686945932e-91,\n",
              " 6.768687443783824e-70,\n",
              " 1.6350288433148802e-36,\n",
              " 0.29683858993609946,\n",
              " 2.6868309180938753e-110,\n",
              " 2.7346860267438254e-31,\n",
              " 7.713257111205026e-267,\n",
              " 1.0802527281434596e-70,\n",
              " 1.5701995142097186e-13,\n",
              " 0.1638984071582562,\n",
              " 9.7455623616761e-294,\n",
              " 2.7698910528742736e-06,\n",
              " 9.370031382084053e-228,\n",
              " 2.4755291024193097e-298,\n",
              " 0.204327258456827,\n",
              " 3.199564289078768e-07,\n",
              " 6.355602592932616e-55,\n",
              " 6.469497011832329e-105,\n",
              " 0.0,\n",
              " 4.838943591420694e-169,\n",
              " 0.005827873025188292,\n",
              " 2.601428413138472e-30,\n",
              " 8.786458287860476e-35,\n",
              " 2.524101831365357e-121,\n",
              " 5.07739480506832e-217,\n",
              " 1.778225697208218e-86,\n",
              " 0.0003024404175534574,\n",
              " 0.0,\n",
              " 1.8334818943437455e-205,\n",
              " 0.0,\n",
              " 0.0,\n",
              " 1.0526388938945393e-67,\n",
              " 5.568511841324295e-107,\n",
              " 8.934001539270922e-45,\n",
              " 2.384538674001725e-09,\n",
              " 1.0045656473104555e-62,\n",
              " 0.0,\n",
              " 7.329818898383914e-15,\n",
              " 3.498900794681209e-77,\n",
              " 4.2510025122580093e-47,\n",
              " 7.666452938920132e-197,\n",
              " 3.122597489901079e-150,\n",
              " 2.070517039366468e-33,\n",
              " 7.972575886162251e-190,\n",
              " 6.531841471092873e-106,\n",
              " 3.0306022205009076e-48,\n",
              " 0.0002870484396351433,\n",
              " 9.922543718122911e-142,\n",
              " 6.635271234646526e-259,\n",
              " 6.885073190591568e-217,\n",
              " 0.0,\n",
              " 1.017965976270439e-11,\n",
              " 7.104891615842199e-31,\n",
              " 0.0,\n",
              " 0.0,\n",
              " 1.915949667638119e-222,\n",
              " 0.18278160506765262,\n",
              " 4.805752635419657e-84,\n",
              " 1.6432759827844337e-109,\n",
              " 4.015524423525201e-210,\n",
              " 1.4312212846653174e-07,\n",
              " 1.2105596371461126e-118,\n",
              " 4.6307246191234844e-241,\n",
              " 1.2927811096141666e-114,\n",
              " 7.484554650184351e-277,\n",
              " 3.598558027284026e-10,\n",
              " 0.0,\n",
              " 3.2097211570641495e-06,\n",
              " 8.85897588687452e-259,\n",
              " 1.9170239914852412e-79,\n",
              " 0.005521920227602087,\n",
              " 2.216776835700831e-261,\n",
              " 1.3722523843232784e-166,\n",
              " 8.485542654753503e-11,\n",
              " 2.9482333973763117e-75,\n",
              " 2.589731390533163e-139,\n",
              " 9.881270738138007e-193,\n",
              " 1.1275313039337164e-49,\n",
              " 9.477078741446009e-24,\n",
              " 0.0,\n",
              " 0.0,\n",
              " 0.7909731340324822,\n",
              " 3.0163471922262974e-202,\n",
              " 0.0,\n",
              " 2.279391574652199e-285,\n",
              " 1.6192725151003231e-74,\n",
              " 4.9702020534267897e-132,\n",
              " 2.1563284089684048e-07,\n",
              " 9.085309242457474e-45,\n",
              " 5.310984907999598e-228,\n",
              " 4.6866484580006506e-198,\n",
              " 1.4672946837247102e-05,\n",
              " 5.449759156097466e-41,\n",
              " 4.276596113850009e-306,\n",
              " 8.601968276334882e-22,\n",
              " 3.676885493741162e-187,\n",
              " 0.0,\n",
              " 1.4062583408321814e-127,\n",
              " 8.196476648760658e-100,\n",
              " 1.7304254449276306e-69,\n",
              " 0.0,\n",
              " 6.180950624943341e-76,\n",
              " 5.495259804164963e-45,\n",
              " 0.0,\n",
              " 0.30612805279530925,\n",
              " 1.3226912411436789e-166,\n",
              " 7.466729433174676e-07,\n",
              " 0.0,\n",
              " 0.27688371548629115,\n",
              " 0.0,\n",
              " 0.013469290321214106,\n",
              " 0.07412568601407334,\n",
              " 2.5056739775280058e-05,\n",
              " 9.18789656098398e-128,\n",
              " 1.9336363576292454e-49,\n",
              " 3.1351887295547196e-53,\n",
              " 1.2988219443087406e-16,\n",
              " 2.7974932302525497e-188,\n",
              " 4.875211415192189e-07,\n",
              " 4.174026156209215e-183,\n",
              " 1.3792124037450897e-201,\n",
              " 3.5297536111071524e-300,\n",
              " 0.0,\n",
              " 0.19087256170030054,\n",
              " 6.866830212050471e-137,\n",
              " 0.0,\n",
              " 7.026169879889138e-34,\n",
              " 1.1203863644430436e-200,\n",
              " 5.0313952568821905e-14,\n",
              " 4.297784435002477e-163,\n",
              " 0.0,\n",
              " 0.4973875253694595,\n",
              " 7.105181870272114e-228,\n",
              " 3.432068248571196e-109,\n",
              " 0.0,\n",
              " 2.632886254517815e-24,\n",
              " 1.2665487645937522e-282,\n",
              " 1.0588363977327429e-66,\n",
              " 0.17557400599507925,\n",
              " 9.103219951161797e-51,\n",
              " 5.803207049689618e-82,\n",
              " 0.0,\n",
              " 0.0,\n",
              " 0.25420519794440466,\n",
              " 1.2073714239653555e-179,\n",
              " 0.0,\n",
              " 1.3396363345167903e-11,\n",
              " 4.061939979110494e-07,\n",
              " 4.32133454335096e-263,\n",
              " 0.09900692079982133,\n",
              " 2.8071840208958452e-09,\n",
              " 4.0037821136871014e-110,\n",
              " 6.530808956826741e-233,\n",
              " 3.9501183719745504e-93,\n",
              " 0.01938026649293889,\n",
              " 9.542234606220542e-196,\n",
              " 3.7081201010579545e-217,\n",
              " 0.0,\n",
              " 4.968901165325347e-68,\n",
              " 5.654736578628114e-43,\n",
              " 1.834188050062025e-24,\n",
              " 0.0,\n",
              " 0.0,\n",
              " 0.0,\n",
              " 0.0,\n",
              " 2.0415711921193435e-190,\n",
              " 2.47011133186483e-64,\n",
              " 6.806002639106998e-19,\n",
              " 3.615223824117556e-94,\n",
              " 0.0,\n",
              " 2.7174939366022896e-251,\n",
              " 2.81693297882811e-136,\n",
              " 2.5396653070222457e-219,\n",
              " 0.0,\n",
              " 7.001948974647529e-74,\n",
              " 0.0002156555124972217,\n",
              " 3.149509921423996e-190,\n",
              " 2.862383646618475e-218,\n",
              " 4.0108653127396083e-81,\n",
              " 1.0951420168255754e-237,\n",
              " 2.5601038174686295e-45,\n",
              " 2.5882269348619242e-135,\n",
              " 1.8809650243198777e-35,\n",
              " 3.402370747439275e-09,\n",
              " 4.7573274810960645e-106,\n",
              " 7.083805827602116e-124,\n",
              " 8.15961051256091e-163,\n",
              " 7.672894347910324e-102,\n",
              " 0.028495819417625464,\n",
              " 2.2323169980468948e-158,\n",
              " 3.3465006073806146e-286,\n",
              " 0.20348161603037912,\n",
              " 1.2287120775738101e-299,\n",
              " 1.6539244667823725e-32,\n",
              " 3.656907100991818e-42,\n",
              " 1.4681750380140606e-290,\n",
              " 4.885026844555055e-22,\n",
              " 3.637856320662609e-201,\n",
              " 2.472301008167449e-41,\n",
              " 1.1421509454333833e-25,\n",
              " 1.799720045981028e-197,\n",
              " 5.023653644268154e-121,\n",
              " 5.8400769466183156e-64,\n",
              " 1.1946363401190245e-227,\n",
              " 4.0474492716344055e-117,\n",
              " 2.534861102027193e-15,\n",
              " 4.1452683919034486e-159,\n",
              " 7.087931098067051e-40,\n",
              " 2.845269466100978e-175,\n",
              " 1.4134844945762218e-46,\n",
              " 7.641497147823268e-14,\n",
              " 4.73671345417835e-202,\n",
              " ...]"
            ]
          },
          "metadata": {},
          "execution_count": 11
        }
      ]
    },
    {
      "cell_type": "code",
      "source": [
        "s_hist = np.histogram(pval_s)"
      ],
      "metadata": {
        "id": "_TDv1dHW7Zq1"
      },
      "id": "_TDv1dHW7Zq1",
      "execution_count": null,
      "outputs": []
    },
    {
      "cell_type": "code",
      "source": [
        "plt.hist((pval_s), bins = 20)"
      ],
      "metadata": {
        "colab": {
          "base_uri": "https://localhost:8080/",
          "height": 404
        },
        "id": "sUdbL-187sKZ",
        "outputId": "a94610e0-0905-481a-ebab-c15eea92d126"
      },
      "id": "sUdbL-187sKZ",
      "execution_count": null,
      "outputs": [
        {
          "output_type": "execute_result",
          "data": {
            "text/plain": [
              "(array([949.,  13.,   5.,   4.,   5.,   4.,   5.,   0.,   1.,   1.,   5.,\n",
              "          1.,   1.,   1.,   1.,   1.,   0.,   1.,   2.,   1.]),\n",
              " array([0.        , 0.04614127, 0.09228254, 0.13842381, 0.18456508,\n",
              "        0.23070634, 0.27684761, 0.32298888, 0.36913015, 0.41527142,\n",
              "        0.46141269, 0.50755396, 0.55369523, 0.5998365 , 0.64597776,\n",
              "        0.69211903, 0.7382603 , 0.78440157, 0.83054284, 0.87668411,\n",
              "        0.92282538]),\n",
              " <a list of 20 Patch objects>)"
            ]
          },
          "metadata": {},
          "execution_count": 15
        },
        {
          "output_type": "display_data",
          "data": {
            "text/plain": [
              "<Figure size 432x288 with 1 Axes>"
            ],
            "image/png": "[encoded data removed]"
          },
          "metadata": {
            "needs_background": "light"
          }
        }
      ]
    },
    {
      "cell_type": "code",
      "source": [
        "np.percentile(pval_s, 5, interpolation = 'nearest')"
      ],
      "metadata": {
        "colab": {
          "base_uri": "https://localhost:8080/"
        },
        "id": "tYcBpsx_9KEL",
        "outputId": "a2892835-18cd-422f-f057-a9985d990f5c"
      },
      "id": "tYcBpsx_9KEL",
      "execution_count": null,
      "outputs": [
        {
          "output_type": "execute_result",
          "data": {
            "text/plain": [
              "1.852039864070312e-06"
            ]
          },
          "metadata": {},
          "execution_count": 52
        }
      ]
    },
    {
      "cell_type": "code",
      "source": [
        "data_s = pd.DataFrame({'simulation_s':simulation_s, 'pval_s':pval_s})\n",
        "data_s['avg_pval_s'] = data_s['pval_s'].expanding().mean()\n",
        "data_s.plot(x='simulation_s', y='avg_pval_s', title = 'Cumulative average of pvalues for Spearmans rank tests')"
      ],
      "metadata": {
        "colab": {
          "base_uri": "https://localhost:8080/",
          "height": 313
        },
        "id": "kCShgtisqLh1",
        "outputId": "796b0ff8-b3ce-4a94-e928-f882a2aac82b"
      },
      "id": "kCShgtisqLh1",
      "execution_count": null,
      "outputs": [
        {
          "output_type": "execute_result",
          "data": {
            "text/plain": [
              "<matplotlib.axes._subplots.AxesSubplot at 0x7f7847298550>"
            ]
          },
          "metadata": {},
          "execution_count": 5
        },
        {
          "output_type": "display_data",
          "data": {
            "text/plain": [
              "<Figure size 432x288 with 1 Axes>"
            ],
            "image/png": "[encoded data removed]"
          },
          "metadata": {
            "needs_background": "light"
          }
        }
      ]
    },
    {
      "cell_type": "code",
      "source": [
        "data_s.head"
      ],
      "metadata": {
        "id": "sTgS77Ul6LpZ",
        "colab": {
          "base_uri": "https://localhost:8080/"
        },
        "outputId": "5afde82e-43f8-4293-feba-95f151a8737a"
      },
      "id": "sTgS77Ul6LpZ",
      "execution_count": null,
      "outputs": [
        {
          "output_type": "execute_result",
          "data": {
            "text/plain": [
              "<bound method NDFrame.head of       simulation_s         pval_s     avg_pval_s\n",
              "0                0   0.000000e+00   0.000000e+00\n",
              "1                1  9.237775e-145  4.618887e-145\n",
              "2                2  2.144254e-188  3.079258e-145\n",
              "3                3   1.821384e-06   4.553460e-07\n",
              "4                4   2.090022e-30   3.642768e-07\n",
              "...            ...            ...            ...\n",
              "996            996   1.374266e-19   1.842207e-02\n",
              "997            997  9.536691e-230   1.840361e-02\n",
              "998            998   3.063405e-14   1.838519e-02\n",
              "999            999   3.567686e-04   1.836716e-02\n",
              "1000          1000   2.823735e-07   1.834881e-02\n",
              "\n",
              "[1001 rows x 3 columns]>"
            ]
          },
          "metadata": {},
          "execution_count": 18
        }
      ]
    },
    {
      "cell_type": "code",
      "source": [
        "def pval_graph_pearson(n):\n",
        "  x, y = 0,0\n",
        "  simulation_p = np.arange(n + 1)\n",
        "  pval_p = [y]\n",
        "  for i in range(1, n+1):\n",
        "    time_data, pos_data = randomwalk1D(1000)\n",
        "    r,p = ss.pearsonr(time_data, pos_data)\n",
        "    yp = p\n",
        "    pval_p.append(yp)\n",
        "  return simulation_p, pval_p\n"
      ],
      "metadata": {
        "id": "7CgMBnPptlsF"
      },
      "id": "7CgMBnPptlsF",
      "execution_count": null,
      "outputs": []
    },
    {
      "cell_type": "code",
      "source": [
        "simulation_p, pval_p = pval_graph_pearson(10000)\n",
        "plt.plot(simulation_p, pval_p, 'r-')\n",
        "plt.title(\"Plot of p values for Pearsons rank correlation test\")\n",
        "plt.show()"
      ],
      "metadata": {
        "colab": {
          "base_uri": "https://localhost:8080/",
          "height": 281
        },
        "id": "wvmWa3p5uq1V",
        "outputId": "9ab77cfd-26b8-4288-b561-79bbd7e6b148"
      },
      "id": "wvmWa3p5uq1V",
      "execution_count": null,
      "outputs": [
        {
          "output_type": "display_data",
          "data": {
            "text/plain": [
              "<Figure size 432x288 with 1 Axes>"
            ],
            "image/png": "[encoded data removed]"
          },
          "metadata": {
            "needs_background": "light"
          }
        }
      ]
    },
    {
      "cell_type": "code",
      "source": [
        "data_p = pd.DataFrame({'simulation_p':simulation_p, 'pval_p':pval_p})\n",
        "data_p['avg_pval_p'] = data_p['pval_p'].expanding().mean()\n",
        "data_p.plot(x='simulation_p', y='avg_pval_p', title = 'Cumulative average of pvalues for pearsons rank tests')"
      ],
      "metadata": {
        "colab": {
          "base_uri": "https://localhost:8080/",
          "height": 313
        },
        "id": "ewewaaqJw4ky",
        "outputId": "af64f6c2-88c5-40f8-c417-60675520aaa2"
      },
      "id": "ewewaaqJw4ky",
      "execution_count": null,
      "outputs": [
        {
          "output_type": "execute_result",
          "data": {
            "text/plain": [
              "<matplotlib.axes._subplots.AxesSubplot at 0x7f78470f7b90>"
            ]
          },
          "metadata": {},
          "execution_count": 9
        },
        {
          "output_type": "display_data",
          "data": {
            "text/plain": [
              "<Figure size 432x288 with 1 Axes>"
            ],
            "image/png": "[encoded data removed]"
          },
          "metadata": {
            "needs_background": "light"
          }
        }
      ]
    },
    {
      "cell_type": "code",
      "source": [
        "data_s.head"
      ],
      "metadata": {
        "colab": {
          "base_uri": "https://localhost:8080/"
        },
        "id": "B1AuGptQ1jjq",
        "outputId": "bd558a47-501a-4d63-cb0d-9b2f3e65e5d3"
      },
      "id": "B1AuGptQ1jjq",
      "execution_count": null,
      "outputs": [
        {
          "output_type": "execute_result",
          "data": {
            "text/plain": [
              "<bound method NDFrame.head of       simulation_s         pval_s     avg_pval_s\n",
              "0                0   0.000000e+00   0.000000e+00\n",
              "1                1  9.237775e-145  4.618887e-145\n",
              "2                2  2.144254e-188  3.079258e-145\n",
              "3                3   1.821384e-06   4.553460e-07\n",
              "4                4   2.090022e-30   3.642768e-07\n",
              "...            ...            ...            ...\n",
              "996            996   1.374266e-19   1.842207e-02\n",
              "997            997  9.536691e-230   1.840361e-02\n",
              "998            998   3.063405e-14   1.838519e-02\n",
              "999            999   3.567686e-04   1.836716e-02\n",
              "1000          1000   2.823735e-07   1.834881e-02\n",
              "\n",
              "[1001 rows x 3 columns]>"
            ]
          },
          "metadata": {},
          "execution_count": 22
        }
      ]
    },
    {
      "cell_type": "code",
      "source": [
        "data_s[data_s > 0.05].count()"
      ],
      "metadata": {
        "colab": {
          "base_uri": "https://localhost:8080/"
        },
        "id": "YhLpoUn-xaoB",
        "outputId": "828d9ca7-fccd-40be-ad36-85b828b51239"
      },
      "id": "YhLpoUn-xaoB",
      "execution_count": null,
      "outputs": [
        {
          "output_type": "execute_result",
          "data": {
            "text/plain": [
              "simulation_s    1000\n",
              "pval_s            45\n",
              "avg_pval_s         0\n",
              "dtype: int64"
            ]
          },
          "metadata": {},
          "execution_count": 23
        }
      ]
    },
    {
      "cell_type": "code",
      "source": [
        "data_s[pval_s > 0.05].count()"
      ],
      "metadata": {
        "id": "EWnkgZ-K2RPD"
      },
      "id": "EWnkgZ-K2RPD",
      "execution_count": null,
      "outputs": []
    },
    {
      "cell_type": "code",
      "source": [
        "data_p[data_p > 0.05].count()"
      ],
      "metadata": {
        "colab": {
          "base_uri": "https://localhost:8080/"
        },
        "id": "M6V4_J6CzqxO",
        "outputId": "ed85c1ad-c053-4f91-fbf7-6d462112f023"
      },
      "id": "M6V4_J6CzqxO",
      "execution_count": null,
      "outputs": [
        {
          "output_type": "execute_result",
          "data": {
            "text/plain": [
              "simulation_p    1000\n",
              "pval_p            42\n",
              "avg_pval_p         0\n",
              "dtype: int64"
            ]
          },
          "metadata": {},
          "execution_count": 25
        }
      ]
    },
    {
      "cell_type": "code",
      "source": [
        "data_p[pval_p > 0.05].count()"
      ],
      "metadata": {
        "id": "fpgoDpPO0a04"
      },
      "id": "fpgoDpPO0a04",
      "execution_count": null,
      "outputs": []
    },
    {
      "cell_type": "code",
      "source": [
        "def pval_graph_pearson_dif_length(n):\n",
        "  w_lengths = (3,n)\n",
        "  xn, yn = 0,0\n",
        "  w_length_p = np.arange(n + 1)\n",
        "  avg_pvalp = [yn]\n",
        "  for i in range(3,n):\n",
        "    x, y = 0,0\n",
        "    simulation_p = np.arange(n + 1)\n",
        "    pval_p = [y]\n",
        "    for k in range(1, n+1):\n",
        "      time_data, pos_data = randomwalk1D(n)\n",
        "      pval_res = ss.pearsonr(time_data, pos_data)\n",
        "      y = pval_res.pvalue\n",
        "      pval_p.append(y)\n",
        "    return simulation_p, pval_p\n",
        "  yn = pval_p.mean()  \n",
        "  avg_pvalp.append(yn)\n",
        "  return w_length_p, avg_pvalp"
      ],
      "metadata": {
        "id": "YRpRhDxx0hAC"
      },
      "id": "YRpRhDxx0hAC",
      "execution_count": null,
      "outputs": []
    },
    {
      "cell_type": "code",
      "source": [
        "w_length_p, avg_pvalp = pval_graph_pearson_dif_length(1000)\n",
        "plt.plot(w_length_p, avg_pvalp, 'r-')\n",
        "plt.title(\"Plot of average p values for Pearsons rank correlation test for different walk lengths\")\n",
        "plt.show()"
      ],
      "metadata": {
        "id": "kDYMkswB2xWv",
        "colab": {
          "base_uri": "https://localhost:8080/",
          "height": 281
        },
        "outputId": "be6bc891-7ea5-45d7-e7c9-f61378e201fb"
      },
      "id": "kDYMkswB2xWv",
      "execution_count": null,
      "outputs": [
        {
          "output_type": "display_data",
          "data": {
            "text/plain": [
              "<Figure size 432x288 with 1 Axes>"
            ],
            "image/png": "[encoded data removed]"
          },
          "metadata": {
            "needs_background": "light"
          }
        }
      ]
    },
    {
      "cell_type": "code",
      "source": [
        "def pval_graph_spearman_dif_length(n):\n",
        "  x1, y1 = 0,0\n",
        "  w_length_s = np.arange(n + 1)\n",
        "  avg_pvals = [y1]\n",
        "  for i in range(3,n):\n",
        "    x, y = 0,0\n",
        "    simulation_p = np.arange(n + 1)\n",
        "    pval_s = [y]\n",
        "    for k in range(1, 101):\n",
        "      time_data, pos_data = randomwalk1D(i)\n",
        "      pval_res = ss.spearmanr(time_data, pos_data)\n",
        "      y = pval_res.pvalue\n",
        "      pval_s.append(y)\n",
        "    return simulation_s, pval_s\n",
        "  y1 = pval_s.mean()  \n",
        "  avg_pvals.append(y1)\n",
        "  return w_length_s, avg_pvals"
      ],
      "metadata": {
        "id": "DQfLkEkSqnX2"
      },
      "id": "DQfLkEkSqnX2",
      "execution_count": null,
      "outputs": []
    },
    {
      "cell_type": "code",
      "source": [
        "w_length_s, avg_pvals = pval_graph_spearman_dif_length(100)\n",
        "plt.plot(w_length_s, avg_pvals, 'r-')\n",
        "plt.title(\"Plot of average p values for Spearmans rank correlation test for different walk lengths\")\n",
        "plt.show()"
      ],
      "metadata": {
        "colab": {
          "base_uri": "https://localhost:8080/",
          "height": 615
        },
        "id": "xqW2-3BXtzo6",
        "outputId": "aadf64dd-ac27-4b6b-ca77-790f210124b1"
      },
      "id": "xqW2-3BXtzo6",
      "execution_count": null,
      "outputs": [
        {
          "output_type": "error",
          "ename": "ValueError",
          "evalue": "ignored",
          "traceback": [
            "\u001b[0;31m---------------------------------------------------------------------------\u001b[0m",
            "\u001b[0;31mValueError\u001b[0m                                Traceback (most recent call last)",
            "\u001b[0;32m<ipython-input-47-0f59d4c63075>\u001b[0m in \u001b[0;36m<module>\u001b[0;34m()\u001b[0m\n\u001b[1;32m      1\u001b[0m \u001b[0mw_length_s\u001b[0m\u001b[0;34m,\u001b[0m \u001b[0mavg_pvals\u001b[0m \u001b[0;34m=\u001b[0m \u001b[0mpval_graph_spearman_dif_length\u001b[0m\u001b[0;34m(\u001b[0m\u001b[0;36m100\u001b[0m\u001b[0;34m)\u001b[0m\u001b[0;34m\u001b[0m\u001b[0;34m\u001b[0m\u001b[0m\n\u001b[0;32m----> 2\u001b[0;31m \u001b[0mplt\u001b[0m\u001b[0;34m.\u001b[0m\u001b[0mplot\u001b[0m\u001b[0;34m(\u001b[0m\u001b[0mw_length_s\u001b[0m\u001b[0;34m,\u001b[0m \u001b[0mavg_pvals\u001b[0m\u001b[0;34m,\u001b[0m \u001b[0;34m'r-'\u001b[0m\u001b[0;34m)\u001b[0m\u001b[0;34m\u001b[0m\u001b[0;34m\u001b[0m\u001b[0m\n\u001b[0m\u001b[1;32m      3\u001b[0m \u001b[0mplt\u001b[0m\u001b[0;34m.\u001b[0m\u001b[0mtitle\u001b[0m\u001b[0;34m(\u001b[0m\u001b[0;34m\"Plot of average p values for Spearmans rank correlation test for different walk lengths\"\u001b[0m\u001b[0;34m)\u001b[0m\u001b[0;34m\u001b[0m\u001b[0;34m\u001b[0m\u001b[0m\n\u001b[1;32m      4\u001b[0m \u001b[0mplt\u001b[0m\u001b[0;34m.\u001b[0m\u001b[0mshow\u001b[0m\u001b[0;34m(\u001b[0m\u001b[0;34m)\u001b[0m\u001b[0;34m\u001b[0m\u001b[0;34m\u001b[0m\u001b[0m\n",
            "\u001b[0;32m/usr/local/lib/python3.7/dist-packages/matplotlib/pyplot.py\u001b[0m in \u001b[0;36mplot\u001b[0;34m(scalex, scaley, data, *args, **kwargs)\u001b[0m\n\u001b[1;32m   2761\u001b[0m     return gca().plot(\n\u001b[1;32m   2762\u001b[0m         *args, scalex=scalex, scaley=scaley, **({\"data\": data} if data\n\u001b[0;32m-> 2763\u001b[0;31m         is not None else {}), **kwargs)\n\u001b[0m\u001b[1;32m   2764\u001b[0m \u001b[0;34m\u001b[0m\u001b[0m\n\u001b[1;32m   2765\u001b[0m \u001b[0;34m\u001b[0m\u001b[0m\n",
            "\u001b[0;32m/usr/local/lib/python3.7/dist-packages/matplotlib/axes/_axes.py\u001b[0m in \u001b[0;36mplot\u001b[0;34m(self, scalex, scaley, data, *args, **kwargs)\u001b[0m\n\u001b[1;32m   1645\u001b[0m         \"\"\"\n\u001b[1;32m   1646\u001b[0m         \u001b[0mkwargs\u001b[0m \u001b[0;34m=\u001b[0m \u001b[0mcbook\u001b[0m\u001b[0;34m.\u001b[0m\u001b[0mnormalize_kwargs\u001b[0m\u001b[0;34m(\u001b[0m\u001b[0mkwargs\u001b[0m\u001b[0;34m,\u001b[0m \u001b[0mmlines\u001b[0m\u001b[0;34m.\u001b[0m\u001b[0mLine2D\u001b[0m\u001b[0;34m)\u001b[0m\u001b[0;34m\u001b[0m\u001b[0;34m\u001b[0m\u001b[0m\n\u001b[0;32m-> 1647\u001b[0;31m         \u001b[0mlines\u001b[0m \u001b[0;34m=\u001b[0m \u001b[0;34m[\u001b[0m\u001b[0;34m*\u001b[0m\u001b[0mself\u001b[0m\u001b[0;34m.\u001b[0m\u001b[0m_get_lines\u001b[0m\u001b[0;34m(\u001b[0m\u001b[0;34m*\u001b[0m\u001b[0margs\u001b[0m\u001b[0;34m,\u001b[0m \u001b[0mdata\u001b[0m\u001b[0;34m=\u001b[0m\u001b[0mdata\u001b[0m\u001b[0;34m,\u001b[0m \u001b[0;34m**\u001b[0m\u001b[0mkwargs\u001b[0m\u001b[0;34m)\u001b[0m\u001b[0;34m]\u001b[0m\u001b[0;34m\u001b[0m\u001b[0;34m\u001b[0m\u001b[0m\n\u001b[0m\u001b[1;32m   1648\u001b[0m         \u001b[0;32mfor\u001b[0m \u001b[0mline\u001b[0m \u001b[0;32min\u001b[0m \u001b[0mlines\u001b[0m\u001b[0;34m:\u001b[0m\u001b[0;34m\u001b[0m\u001b[0;34m\u001b[0m\u001b[0m\n\u001b[1;32m   1649\u001b[0m             \u001b[0mself\u001b[0m\u001b[0;34m.\u001b[0m\u001b[0madd_line\u001b[0m\u001b[0;34m(\u001b[0m\u001b[0mline\u001b[0m\u001b[0;34m)\u001b[0m\u001b[0;34m\u001b[0m\u001b[0;34m\u001b[0m\u001b[0m\n",
            "\u001b[0;32m/usr/local/lib/python3.7/dist-packages/matplotlib/axes/_base.py\u001b[0m in \u001b[0;36m__call__\u001b[0;34m(self, *args, **kwargs)\u001b[0m\n\u001b[1;32m    214\u001b[0m                 \u001b[0mthis\u001b[0m \u001b[0;34m+=\u001b[0m \u001b[0margs\u001b[0m\u001b[0;34m[\u001b[0m\u001b[0;36m0\u001b[0m\u001b[0;34m]\u001b[0m\u001b[0;34m,\u001b[0m\u001b[0;34m\u001b[0m\u001b[0;34m\u001b[0m\u001b[0m\n\u001b[1;32m    215\u001b[0m                 \u001b[0margs\u001b[0m \u001b[0;34m=\u001b[0m \u001b[0margs\u001b[0m\u001b[0;34m[\u001b[0m\u001b[0;36m1\u001b[0m\u001b[0;34m:\u001b[0m\u001b[0;34m]\u001b[0m\u001b[0;34m\u001b[0m\u001b[0;34m\u001b[0m\u001b[0m\n\u001b[0;32m--> 216\u001b[0;31m             \u001b[0;32myield\u001b[0m \u001b[0;32mfrom\u001b[0m \u001b[0mself\u001b[0m\u001b[0;34m.\u001b[0m\u001b[0m_plot_args\u001b[0m\u001b[0;34m(\u001b[0m\u001b[0mthis\u001b[0m\u001b[0;34m,\u001b[0m \u001b[0mkwargs\u001b[0m\u001b[0;34m)\u001b[0m\u001b[0;34m\u001b[0m\u001b[0;34m\u001b[0m\u001b[0m\n\u001b[0m\u001b[1;32m    217\u001b[0m \u001b[0;34m\u001b[0m\u001b[0m\n\u001b[1;32m    218\u001b[0m     \u001b[0;32mdef\u001b[0m \u001b[0mget_next_color\u001b[0m\u001b[0;34m(\u001b[0m\u001b[0mself\u001b[0m\u001b[0;34m)\u001b[0m\u001b[0;34m:\u001b[0m\u001b[0;34m\u001b[0m\u001b[0;34m\u001b[0m\u001b[0m\n",
            "\u001b[0;32m/usr/local/lib/python3.7/dist-packages/matplotlib/axes/_base.py\u001b[0m in \u001b[0;36m_plot_args\u001b[0;34m(self, tup, kwargs)\u001b[0m\n\u001b[1;32m    340\u001b[0m \u001b[0;34m\u001b[0m\u001b[0m\n\u001b[1;32m    341\u001b[0m         \u001b[0;32mif\u001b[0m \u001b[0mx\u001b[0m\u001b[0;34m.\u001b[0m\u001b[0mshape\u001b[0m\u001b[0;34m[\u001b[0m\u001b[0;36m0\u001b[0m\u001b[0;34m]\u001b[0m \u001b[0;34m!=\u001b[0m \u001b[0my\u001b[0m\u001b[0;34m.\u001b[0m\u001b[0mshape\u001b[0m\u001b[0;34m[\u001b[0m\u001b[0;36m0\u001b[0m\u001b[0;34m]\u001b[0m\u001b[0;34m:\u001b[0m\u001b[0;34m\u001b[0m\u001b[0;34m\u001b[0m\u001b[0m\n\u001b[0;32m--> 342\u001b[0;31m             raise ValueError(f\"x and y must have same first dimension, but \"\n\u001b[0m\u001b[1;32m    343\u001b[0m                              f\"have shapes {x.shape} and {y.shape}\")\n\u001b[1;32m    344\u001b[0m         \u001b[0;32mif\u001b[0m \u001b[0mx\u001b[0m\u001b[0;34m.\u001b[0m\u001b[0mndim\u001b[0m \u001b[0;34m>\u001b[0m \u001b[0;36m2\u001b[0m \u001b[0;32mor\u001b[0m \u001b[0my\u001b[0m\u001b[0;34m.\u001b[0m\u001b[0mndim\u001b[0m \u001b[0;34m>\u001b[0m \u001b[0;36m2\u001b[0m\u001b[0;34m:\u001b[0m\u001b[0;34m\u001b[0m\u001b[0;34m\u001b[0m\u001b[0m\n",
            "\u001b[0;31mValueError\u001b[0m: x and y must have same first dimension, but have shapes (1001,) and (101,)"
          ]
        },
        {
          "output_type": "display_data",
          "data": {
            "text/plain": [
              "<Figure size 432x288 with 1 Axes>"
            ],
            "image/png": "[encoded data removed]"
          },
          "metadata": {
            "needs_background": "light"
          }
        }
      ]
    },
    {
      "cell_type": "code",
      "source": [
        "def pval_graph_pearson1(n,k):\n",
        "  x, y = 0,0\n",
        "  simulation_p = np.arange(n + 1)\n",
        "  pval_p = [y]\n",
        "  print(n)\n",
        "  print(k)\n",
        "  for i in range(1, n+1):\n",
        "    time_data, pos_data = randomwalk1D(k)\n",
        "    pval_res1 = ss.spearmanr(time_data, pos_data)\n",
        "    y = pval_res1.pvalue\n",
        "    pval_p.append(y)\n",
        "  return simulation_p, pval_p"
      ],
      "metadata": {
        "id": "CmZafhPZuep5"
      },
      "id": "CmZafhPZuep5",
      "execution_count": null,
      "outputs": []
    },
    {
      "cell_type": "code",
      "source": [
        "data_p = pd.DataFrame({'simulation_p':simulation_p, 'pval_p':pval_p})\n",
        "data_p.mean()"
      ],
      "metadata": {
        "colab": {
          "base_uri": "https://localhost:8080/"
        },
        "id": "vDRJRcT04c1m",
        "outputId": "aa07c47c-c406-4d5f-f47a-f55646a45a91"
      },
      "id": "vDRJRcT04c1m",
      "execution_count": null,
      "outputs": [
        {
          "output_type": "execute_result",
          "data": {
            "text/plain": [
              "simulation_p    500.00000\n",
              "pval_p            0.19366\n",
              "dtype: float64"
            ]
          },
          "metadata": {},
          "execution_count": 70
        }
      ]
    },
    {
      "cell_type": "code",
      "source": [
        "simulation_p, pval_p = pval_graph_pearson1(100,100)\n",
        "plt.plot(simulation_p, pval_p, 'r-')\n",
        "plt.title(\"-\")\n",
        "plt.show()"
      ],
      "metadata": {
        "colab": {
          "base_uri": "https://localhost:8080/",
          "height": 316
        },
        "id": "3Nx09p0P4Bt3",
        "outputId": "a320ed22-6a72-44a4-a97b-7360250a5f0f"
      },
      "id": "3Nx09p0P4Bt3",
      "execution_count": null,
      "outputs": [
        {
          "output_type": "stream",
          "name": "stdout",
          "text": [
            "100\n",
            "100\n"
          ]
        },
        {
          "output_type": "display_data",
          "data": {
            "text/plain": [
              "<Figure size 432x288 with 1 Axes>"
            ],
            "image/png": "[encoded data removed]"
          },
          "metadata": {
            "needs_background": "light"
          }
        }
      ]
    },
    {
      "cell_type": "code",
      "source": [
        "def pval_graph_pearson2(n,k):\n",
        "  x, y = 0,0\n",
        "  simulation_p = np.arange(n + 1)\n",
        "  walk_length = []\n",
        "  pval_p = [y]\n",
        "  avg_p = []\n",
        "  perc_p = []\n",
        "  count = []\n",
        "  for p in range(3, k+1):\n",
        "    pval_p = []\n",
        "    for i in range(1, n+1):\n",
        "      time_data, pos_data = randomwalk1D(p)\n",
        "      pval_res1 = ss.spearmanr(time_data, pos_data)\n",
        "      y = pval_res1.pvalue\n",
        "      if y > 0.05:\n",
        "          count.append(1)\n",
        "      else:\n",
        "          count.append(0)\n",
        "      pval_p.append(y)\n",
        "      count = count\n",
        "    walk_length.append(p)\n",
        "    avgp = np.mean(pval_p)\n",
        "    perc = np.percentile(pval_p, 95, interpolation = 'nearest')\n",
        "    avg_p.append(avgp)\n",
        "    perc_p.append(perc)\n",
        "    cpwl = np.add.reduceat(count, np.arange(0, len(count), n))\n",
        "    totalcount = sum(count)\n",
        "  return walk_length, avg_p, count, totalcount, cpwl, n, k, perc_p"
      ],
      "metadata": {
        "id": "JwAPrj_t4Lg_"
      },
      "id": "JwAPrj_t4Lg_",
      "execution_count": null,
      "outputs": []
    },
    {
      "cell_type": "code",
      "source": [
        "walk_length, avg_pval, count, totalcount, cpwl, n, k, perc_p = pval_graph_pearson2(1000,300)\n",
        "plt.plot(walk_length, avg_pval, 'r-')\n",
        "plt.title(\"-\")\n",
        "plt.show()\n",
        "#totalcount"
      ],
      "metadata": {
        "colab": {
          "base_uri": "https://localhost:8080/",
          "height": 281
        },
        "id": "vSMLbWqxc7nO",
        "outputId": "648db6bf-4e9c-4093-b429-026f9269a044"
      },
      "id": "vSMLbWqxc7nO",
      "execution_count": null,
      "outputs": [
        {
          "output_type": "display_data",
          "data": {
            "text/plain": [
              "<Figure size 432x288 with 1 Axes>"
            ],
            "image/png": "[encoded data removed]"
          },
          "metadata": {
            "needs_background": "light"
          }
        }
      ]
    },
    {
      "cell_type": "code",
      "source": [
        "cpwl"
      ],
      "metadata": {
        "colab": {
          "base_uri": "https://localhost:8080/"
        },
        "id": "mbidBklsjzxS",
        "outputId": "dded08ca-c8a1-46b8-f2a1-ebda3eceb682"
      },
      "id": "mbidBklsjzxS",
      "execution_count": null,
      "outputs": [
        {
          "output_type": "execute_result",
          "data": {
            "text/plain": [
              "array([750, 675, 663, 652, 552, 510, 496, 445, 430, 375, 428, 371, 356,\n",
              "       355, 331, 310, 332, 322, 311, 283, 286, 306, 288, 298, 267, 273,\n",
              "       241, 246, 224, 249, 259, 242, 238, 239, 205, 222, 221, 210, 222,\n",
              "       210, 205, 226, 190, 186, 212, 196, 197, 196, 183, 201, 182, 180,\n",
              "       185, 194, 180, 188, 197, 202, 180, 170, 171, 178, 166, 169, 170,\n",
              "       167, 144, 175, 161, 144, 155, 183, 173, 163, 157, 148, 145, 163,\n",
              "       145, 133, 153, 138, 138, 157, 158, 149, 136, 154, 151, 154, 141,\n",
              "       151, 161, 133, 143, 139, 143, 145])"
            ]
          },
          "metadata": {},
          "execution_count": 8
        }
      ]
    },
    {
      "cell_type": "code",
      "source": [
        "logc = np.log(cpwl)"
      ],
      "metadata": {
        "id": "gPCfvYqeW4F0"
      },
      "id": "gPCfvYqeW4F0",
      "execution_count": null,
      "outputs": []
    },
    {
      "cell_type": "code",
      "source": [
        "xaxis = range(3,301)\n",
        "logx = np.log(xaxis)"
      ],
      "metadata": {
        "id": "PvPPT5O2XH2b"
      },
      "id": "PvPPT5O2XH2b",
      "execution_count": null,
      "outputs": []
    },
    {
      "cell_type": "code",
      "source": [
        "plt.plot(xaxis, cpwl)"
      ],
      "metadata": {
        "colab": {
          "base_uri": "https://localhost:8080/",
          "height": 282
        },
        "id": "51Kv_i2clI2e",
        "outputId": "b1367c00-449f-45ec-c8a3-67caac537ae6"
      },
      "id": "51Kv_i2clI2e",
      "execution_count": null,
      "outputs": [
        {
          "output_type": "execute_result",
          "data": {
            "text/plain": [
              "[<matplotlib.lines.Line2D at 0x7fd4a250d590>]"
            ]
          },
          "metadata": {},
          "execution_count": 9
        },
        {
          "output_type": "display_data",
          "data": {
            "text/plain": [
              "<Figure size 432x288 with 1 Axes>"
            ],
            "image/png": "[encoded data removed]"
          },
          "metadata": {
            "needs_background": "light"
          }
        }
      ]
    },
    {
      "cell_type": "code",
      "source": [
        "plt.plot(logx, logc)"
      ],
      "metadata": {
        "colab": {
          "base_uri": "https://localhost:8080/",
          "height": 282
        },
        "id": "XeyiBjmjj264",
        "outputId": "bf4eea40-4b6a-4d5d-e2bb-de08ab445e23"
      },
      "id": "XeyiBjmjj264",
      "execution_count": null,
      "outputs": [
        {
          "output_type": "execute_result",
          "data": {
            "text/plain": [
              "[<matplotlib.lines.Line2D at 0x7fd4a247ea90>]"
            ]
          },
          "metadata": {},
          "execution_count": 10
        },
        {
          "output_type": "display_data",
          "data": {
            "text/plain": [
              "<Figure size 432x288 with 1 Axes>"
            ],
            "image/png": "[encoded data removed]"
          },
          "metadata": {
            "needs_background": "light"
          }
        }
      ]
    },
    {
      "cell_type": "code",
      "source": [
        "totalcount"
      ],
      "metadata": {
        "colab": {
          "base_uri": "https://localhost:8080/"
        },
        "id": "sCvkv82Qf9a3",
        "outputId": "b038ccfb-f4de-46ca-e3a3-f1e060800a61"
      },
      "id": "sCvkv82Qf9a3",
      "execution_count": null,
      "outputs": [
        {
          "output_type": "execute_result",
          "data": {
            "text/plain": [
              "23464"
            ]
          },
          "metadata": {},
          "execution_count": 59
        }
      ]
    },
    {
      "cell_type": "code",
      "source": [
        "totalcount/(n*k)"
      ],
      "metadata": {
        "colab": {
          "base_uri": "https://localhost:8080/"
        },
        "id": "MLdpLFBWdMXQ",
        "outputId": "677b6791-1587-462e-84b6-b086e12276ae"
      },
      "id": "MLdpLFBWdMXQ",
      "execution_count": null,
      "outputs": [
        {
          "output_type": "execute_result",
          "data": {
            "text/plain": [
              "0.23464"
            ]
          },
          "metadata": {},
          "execution_count": 60
        }
      ]
    },
    {
      "cell_type": "code",
      "source": [
        "count"
      ],
      "metadata": {
        "id": "TJr1JTjdbpL_"
      },
      "id": "TJr1JTjdbpL_",
      "execution_count": null,
      "outputs": []
    },
    {
      "cell_type": "code",
      "source": [
        "from sklearn import metrics\n",
        "from sklearn.linear_model import LinearRegression\n",
        "from sklearn.metrics import r2_score"
      ],
      "metadata": {
        "id": "8JEyr1EMhHkf"
      },
      "id": "8JEyr1EMhHkf",
      "execution_count": null,
      "outputs": []
    },
    {
      "cell_type": "code",
      "source": [
        "reg_df = pd.DataFrame({'logx':logx, 'logc':logc})\n",
        "reg_df"
      ],
      "metadata": {
        "colab": {
          "base_uri": "https://localhost:8080/",
          "height": 424
        },
        "id": "r_d6QJDxh1nL",
        "outputId": "b0206416-eab4-4d88-f412-3ab5ef4bbf02"
      },
      "id": "r_d6QJDxh1nL",
      "execution_count": null,
      "outputs": [
        {
          "output_type": "execute_result",
          "data": {
            "text/plain": [
              "         logx      logc\n",
              "0    1.098612  6.601230\n",
              "1    1.386294  6.501290\n",
              "2    1.609438  6.498282\n",
              "3    1.791759  6.410175\n",
              "4    1.945910  6.317165\n",
              "..        ...       ...\n",
              "293  5.690359  4.356709\n",
              "294  5.693732  4.369448\n",
              "295  5.697093  4.442651\n",
              "296  5.700444  4.394449\n",
              "297  5.703782  4.262680\n",
              "\n",
              "[298 rows x 2 columns]"
            ],
            "text/html": [
              "\n",
              "  <div id=\"df-d0d04d27-1801-4bb9-893c-8f920d2ad5c1\">\n",
              "    <div class=\"colab-df-container\">\n",
              "      <div>\n",
              "<style scoped>\n",
              "    .dataframe tbody tr th:only-of-type {\n",
              "        vertical-align: middle;\n",
              "    }\n",
              "\n",
              "    .dataframe tbody tr th {\n",
              "        vertical-align: top;\n",
              "    }\n",
              "\n",
              "    .dataframe thead th {\n",
              "        text-align: right;\n",
              "    }\n",
              "</style>\n",
              "<table border=\"1\" class=\"dataframe\">\n",
              "  <thead>\n",
              "    <tr style=\"text-align: right;\">\n",
              "      <th></th>\n",
              "      <th>logx</th>\n",
              "      <th>logc</th>\n",
              "    </tr>\n",
              "  </thead>\n",
              "  <tbody>\n",
              "    <tr>\n",
              "      <th>0</th>\n",
              "      <td>1.098612</td>\n",
              "      <td>6.601230</td>\n",
              "    </tr>\n",
              "    <tr>\n",
              "      <th>1</th>\n",
              "      <td>1.386294</td>\n",
              "      <td>6.501290</td>\n",
              "    </tr>\n",
              "    <tr>\n",
              "      <th>2</th>\n",
              "      <td>1.609438</td>\n",
              "      <td>6.498282</td>\n",
              "    </tr>\n",
              "    <tr>\n",
              "      <th>3</th>\n",
              "      <td>1.791759</td>\n",
              "      <td>6.410175</td>\n",
              "    </tr>\n",
              "    <tr>\n",
              "      <th>4</th>\n",
              "      <td>1.945910</td>\n",
              "      <td>6.317165</td>\n",
              "    </tr>\n",
              "    <tr>\n",
              "      <th>...</th>\n",
              "      <td>...</td>\n",
              "      <td>...</td>\n",
              "    </tr>\n",
              "    <tr>\n",
              "      <th>293</th>\n",
              "      <td>5.690359</td>\n",
              "      <td>4.356709</td>\n",
              "    </tr>\n",
              "    <tr>\n",
              "      <th>294</th>\n",
              "      <td>5.693732</td>\n",
              "      <td>4.369448</td>\n",
              "    </tr>\n",
              "    <tr>\n",
              "      <th>295</th>\n",
              "      <td>5.697093</td>\n",
              "      <td>4.442651</td>\n",
              "    </tr>\n",
              "    <tr>\n",
              "      <th>296</th>\n",
              "      <td>5.700444</td>\n",
              "      <td>4.394449</td>\n",
              "    </tr>\n",
              "    <tr>\n",
              "      <th>297</th>\n",
              "      <td>5.703782</td>\n",
              "      <td>4.262680</td>\n",
              "    </tr>\n",
              "  </tbody>\n",
              "</table>\n",
              "<p>298 rows × 2 columns</p>\n",
              "</div>\n",
              "      <button class=\"colab-df-convert\" onclick=\"convertToInteractive('df-d0d04d27-1801-4bb9-893c-8f920d2ad5c1')\"\n",
              "              title=\"Convert this dataframe to an interactive table.\"\n",
              "              style=\"display:none;\">\n",
              "        \n",
              "  <svg xmlns=\"http://www.w3.org/2000/svg\" height=\"24px\"viewBox=\"0 0 24 24\"\n",
              "       width=\"24px\">\n",
              "    <path d=\"M0 0h24v24H0V0z\" fill=\"none\"/>\n",
              "    <path d=\"M18.56 5.44l.94 2.06.94-2.06 2.06-.94-2.06-.94-.94-2.06-.94 2.06-2.06.94zm-11 1L8.5 8.5l.94-2.06 2.06-.94-2.06-.94L8.5 2.5l-.94 2.06-2.06.94zm10 10l.94 2.06.94-2.06 2.06-.94-2.06-.94-.94-2.06-.94 2.06-2.06.94z\"/><path d=\"M17.41 7.96l-1.37-1.37c-.4-.4-.92-.59-1.43-.59-.52 0-1.04.2-1.43.59L10.3 9.45l-7.72 7.72c-.78.78-.78 2.05 0 2.83L4 21.41c.39.39.9.59 1.41.59.51 0 1.02-.2 1.41-.59l7.78-7.78 2.81-2.81c.8-.78.8-2.07 0-2.86zM5.41 20L4 18.59l7.72-7.72 1.47 1.35L5.41 20z\"/>\n",
              "  </svg>\n",
              "      </button>\n",
              "      \n",
              "  <style>\n",
              "    .colab-df-container {\n",
              "      display:flex;\n",
              "      flex-wrap:wrap;\n",
              "      gap: 12px;\n",
              "    }\n",
              "\n",
              "    .colab-df-convert {\n",
              "      background-color: #E8F0FE;\n",
              "      border: none;\n",
              "      border-radius: 50%;\n",
              "      cursor: pointer;\n",
              "      display: none;\n",
              "      fill: #1967D2;\n",
              "      height: 32px;\n",
              "      padding: 0 0 0 0;\n",
              "      width: 32px;\n",
              "    }\n",
              "\n",
              "    .colab-df-convert:hover {\n",
              "      background-color: #E2EBFA;\n",
              "      box-shadow: 0px 1px 2px rgba(60, 64, 67, 0.3), 0px 1px 3px 1px rgba(60, 64, 67, 0.15);\n",
              "      fill: #174EA6;\n",
              "    }\n",
              "\n",
              "    [theme=dark] .colab-df-convert {\n",
              "      background-color: #3B4455;\n",
              "      fill: #D2E3FC;\n",
              "    }\n",
              "\n",
              "    [theme=dark] .colab-df-convert:hover {\n",
              "      background-color: #434B5C;\n",
              "      box-shadow: 0px 1px 3px 1px rgba(0, 0, 0, 0.15);\n",
              "      filter: drop-shadow(0px 1px 2px rgba(0, 0, 0, 0.3));\n",
              "      fill: #FFFFFF;\n",
              "    }\n",
              "  </style>\n",
              "\n",
              "      <script>\n",
              "        const buttonEl =\n",
              "          document.querySelector('#df-d0d04d27-1801-4bb9-893c-8f920d2ad5c1 button.colab-df-convert');\n",
              "        buttonEl.style.display =\n",
              "          google.colab.kernel.accessAllowed ? 'block' : 'none';\n",
              "\n",
              "        async function convertToInteractive(key) {\n",
              "          const element = document.querySelector('#df-d0d04d27-1801-4bb9-893c-8f920d2ad5c1');\n",
              "          const dataTable =\n",
              "            await google.colab.kernel.invokeFunction('convertToInteractive',\n",
              "                                                     [key], {});\n",
              "          if (!dataTable) return;\n",
              "\n",
              "          const docLinkHtml = 'Like what you see? Visit the ' +\n",
              "            '<a target=\"_blank\" href=https://colab.research.google.com/notebooks/data_table.ipynb>data table notebook</a>'\n",
              "            + ' to learn more about interactive tables.';\n",
              "          element.innerHTML = '';\n",
              "          dataTable['output_type'] = 'display_data';\n",
              "          await google.colab.output.renderOutput(dataTable, element);\n",
              "          const docLink = document.createElement('div');\n",
              "          docLink.innerHTML = docLinkHtml;\n",
              "          element.appendChild(docLink);\n",
              "        }\n",
              "      </script>\n",
              "    </div>\n",
              "  </div>\n",
              "  "
            ]
          },
          "metadata": {},
          "execution_count": 12
        }
      ]
    },
    {
      "cell_type": "code",
      "source": [],
      "metadata": {
        "id": "cEUyOCNl_WXV"
      },
      "id": "cEUyOCNl_WXV",
      "execution_count": null,
      "outputs": []
    },
    {
      "cell_type": "code",
      "source": [
        "y = reg_df.logc\n",
        "X = reg_df[[\"logx\"]]"
      ],
      "metadata": {
        "id": "X0rZBWO-iR0x"
      },
      "id": "X0rZBWO-iR0x",
      "execution_count": null,
      "outputs": []
    },
    {
      "cell_type": "code",
      "source": [
        "lr_model = LinearRegression().fit(X, y)\n",
        "lr_model"
      ],
      "metadata": {
        "colab": {
          "base_uri": "https://localhost:8080/"
        },
        "id": "yzFwMtkEifLT",
        "outputId": "47323eca-539d-41f9-a582-89d460b148c5"
      },
      "id": "yzFwMtkEifLT",
      "execution_count": null,
      "outputs": [
        {
          "output_type": "execute_result",
          "data": {
            "text/plain": [
              "LinearRegression()"
            ]
          },
          "metadata": {},
          "execution_count": 14
        }
      ]
    },
    {
      "cell_type": "code",
      "source": [
        "lr_model.coef_"
      ],
      "metadata": {
        "colab": {
          "base_uri": "https://localhost:8080/"
        },
        "id": "QJ0ojgm_ilsd",
        "outputId": "d9c75983-228f-4d91-b2aa-5510d4eba79a"
      },
      "id": "QJ0ojgm_ilsd",
      "execution_count": null,
      "outputs": [
        {
          "output_type": "execute_result",
          "data": {
            "text/plain": [
              "array([-0.51896067])"
            ]
          },
          "metadata": {},
          "execution_count": 15
        }
      ]
    },
    {
      "cell_type": "code",
      "source": [
        "lr_model.intercept_"
      ],
      "metadata": {
        "colab": {
          "base_uri": "https://localhost:8080/"
        },
        "id": "cuhnqNYYjAaH",
        "outputId": "454b9d6a-efab-43d3-ca15-2d6198490678"
      },
      "id": "cuhnqNYYjAaH",
      "execution_count": null,
      "outputs": [
        {
          "output_type": "execute_result",
          "data": {
            "text/plain": [
              "7.305223245906718"
            ]
          },
          "metadata": {},
          "execution_count": 16
        }
      ]
    },
    {
      "cell_type": "code",
      "source": [
        "#y = 7.305223245906718 + -0.51896067*X"
      ],
      "metadata": {
        "id": "759Ap4tnjHeO"
      },
      "id": "759Ap4tnjHeO",
      "execution_count": null,
      "outputs": []
    },
    {
      "cell_type": "code",
      "source": [
        "log_regy = lr_model.intercept_ + (lr_model.coef_*logx)"
      ],
      "metadata": {
        "id": "u8_qEiwjkTzk"
      },
      "id": "u8_qEiwjkTzk",
      "execution_count": null,
      "outputs": []
    },
    {
      "cell_type": "code",
      "source": [
        "plt.plot(logx, logc)\n",
        "plt.plot(logx, log_regy)\n",
        "plt.show"
      ],
      "metadata": {
        "colab": {
          "base_uri": "https://localhost:8080/",
          "height": 282
        },
        "id": "VhLKDr5mkIqB",
        "outputId": "97321ebb-9691-4e9c-f187-307e6eebafe4"
      },
      "id": "VhLKDr5mkIqB",
      "execution_count": null,
      "outputs": [
        {
          "output_type": "execute_result",
          "data": {
            "text/plain": [
              "<function matplotlib.pyplot.show(*args, **kw)>"
            ]
          },
          "metadata": {},
          "execution_count": 18
        },
        {
          "output_type": "display_data",
          "data": {
            "text/plain": [
              "<Figure size 432x288 with 1 Axes>"
            ],
            "image/png": "[encoded data removed]"
          },
          "metadata": {
            "needs_background": "light"
          }
        }
      ]
    },
    {
      "cell_type": "code",
      "source": [
        "regy = np.exp(log_regy)"
      ],
      "metadata": {
        "id": "yJRe69yPkf4r"
      },
      "id": "yJRe69yPkf4r",
      "execution_count": null,
      "outputs": []
    },
    {
      "cell_type": "code",
      "source": [
        "plt.plot(xaxis, cpwl)\n",
        "plt.plot(xaxis, regy)\n",
        "plt.show"
      ],
      "metadata": {
        "colab": {
          "base_uri": "https://localhost:8080/",
          "height": 282
        },
        "id": "F2OYfQrfkvBp",
        "outputId": "0e09f929-5cdf-4ec1-9a87-4bae20b8ea6c"
      },
      "id": "F2OYfQrfkvBp",
      "execution_count": null,
      "outputs": [
        {
          "output_type": "execute_result",
          "data": {
            "text/plain": [
              "<function matplotlib.pyplot.show(*args, **kw)>"
            ]
          },
          "metadata": {},
          "execution_count": 20
        },
        {
          "output_type": "display_data",
          "data": {
            "text/plain": [
              "<Figure size 432x288 with 1 Axes>"
            ],
            "image/png": "[encoded data removed]"
          },
          "metadata": {
            "needs_background": "light"
          }
        }
      ]
    },
    {
      "cell_type": "code",
      "source": [
        "regy"
      ],
      "metadata": {
        "colab": {
          "base_uri": "https://localhost:8080/"
        },
        "id": "BSZmNWJkk9P8",
        "outputId": "5d2b7c96-31f3-4686-e1cd-d2db68a83cb6"
      },
      "id": "BSZmNWJkk9P8",
      "execution_count": null,
      "outputs": [
        {
          "output_type": "execute_result",
          "data": {
            "text/plain": [
              "array([841.41640749, 724.72406958, 645.47614952, 587.20297435,\n",
              "       542.05767205, 505.76637852, 475.77739938, 450.4612835 ,\n",
              "       428.72251735, 409.79392608, 393.12019171, 378.28817511,\n",
              "       364.98333173, 352.96141025, 342.02948162, 332.03286929,\n",
              "       322.84592798, 314.36539999, 306.50553902, 299.19447151,\n",
              "       292.37144087, 285.98469215, 279.98982847, 274.3485197 ,\n",
              "       269.02747764, 263.99763495, 259.23348176, 254.7125253 ,\n",
              "       250.41484657, 246.32273401, 242.42037895, 238.69362082,\n",
              "       235.12973288, 231.71724094, 228.44576941, 225.30590975,\n",
              "       222.28910773, 219.38756633, 216.59416174, 213.90237054,\n",
              "       211.30620619, 208.80016365, 206.37917069, 204.0385452 ,\n",
              "       201.77395745, 199.58139674, 197.45714188, 195.39773482,\n",
              "       193.39995729, 191.46080983, 189.57749303, 187.74739077,\n",
              "       185.96805503, 184.2371923 , 182.55265127, 180.91241172,\n",
              "       179.31457441, 177.75735193, 176.23906041, 174.75811194,\n",
              "       173.31300763, 171.90233132, 170.52474383, 169.17897761,\n",
              "       167.86383195, 166.5781685 , 165.32090716, 164.09102233,\n",
              "       162.88753939, 161.70953155, 160.55611682, 159.4264553 ,\n",
              "       158.31974662, 157.23522761, 156.17217005, 155.1298787 ,\n",
              "       154.10768938, 153.10496722, 152.121105  , 151.15552165,\n",
              "       150.20766081, 149.27698947, 148.36299677, 147.46519282,\n",
              "       146.58310758, 145.71628988, 144.8643064 , 144.02674086,\n",
              "       143.20319308, 142.39327824, 141.59662612, 140.81288041,\n",
              "       140.041698  , 139.28274841, 138.53571318, 137.80028531,\n",
              "       137.07616874, 136.36307784, 135.66073698, 134.96888004,\n",
              "       134.28725002, 133.61559865, 132.95368599, 132.30128007,\n",
              "       131.65815658, 131.02409854, 130.39889598, 129.78234567,\n",
              "       129.17425082, 128.57442087, 127.98267117, 127.39882281,\n",
              "       126.82270234, 126.25414161, 125.69297751, 125.13905184,\n",
              "       124.59221105, 124.05230613, 123.51919239, 122.99272934,\n",
              "       122.47278051, 121.95921331, 121.45189889, 120.950712  ,\n",
              "       120.45553088, 119.96623711, 119.48271552, 119.00485406,\n",
              "       118.53254368, 118.06567826, 117.60415449, 117.14787177,\n",
              "       116.69673213, 116.25064015, 115.80950286, 115.37322965,\n",
              "       114.94173222, 114.5149245 , 114.09272256, 113.67504456,\n",
              "       113.26181068, 112.85294304, 112.44836567, 112.04800442,\n",
              "       111.65178693, 111.25964256, 110.87150233, 110.4872989 ,\n",
              "       110.10696649, 109.73044084, 109.35765918, 108.98856018,\n",
              "       108.62308389, 108.26117172, 107.90276641, 107.54781196,\n",
              "       107.19625362, 106.84803783, 106.50311223, 106.16142557,\n",
              "       105.82292774, 105.48756967, 105.15530337, 104.82608184,\n",
              "       104.49985911, 104.17659014, 103.85623084, 103.53873803,\n",
              "       103.22406944, 102.91218363, 102.60304005, 102.29659892,\n",
              "       101.99282131, 101.69166903, 101.39310468, 101.09709157,\n",
              "       100.80359377, 100.51257602, 100.22400376,  99.9378431 ,\n",
              "        99.6540608 ,  99.37262426,  99.0935015 ,  98.81666114,\n",
              "        98.5420724 ,  98.26970507,  97.9995295 ,  97.7315166 ,\n",
              "        97.46563782,  97.20186511,  96.94017096,  96.68052835,\n",
              "        96.42291073,  96.16729206,  95.91364674,  95.66194964,\n",
              "        95.41217606,  95.16430175,  94.91830288,  94.67415604,\n",
              "        94.43183821,  94.19132679,  93.95259955,  93.71563465,\n",
              "        93.48041062,  93.24690635,  93.01510109,  92.78497444,\n",
              "        92.55650634,  92.32967705,  92.10446717,  91.88085763,\n",
              "        91.65882964,  91.43836475,  91.21944479,  91.00205189,\n",
              "        90.78616846,  90.5717772 ,  90.35886109,  90.14740338,\n",
              "        89.93738756,  89.7287974 ,  89.52161694,  89.31583044,\n",
              "        89.11142241,  88.90837761,  88.70668102,  88.50631788,\n",
              "        88.30727361,  88.1095339 ,  87.91308461,  87.71791184,\n",
              "        87.5240019 ,  87.33134129,  87.13991672,  86.9497151 ,\n",
              "        86.76072352,  86.57292927,  86.38631983,  86.20088284,\n",
              "        86.01660615,  85.83347775,  85.65148585,  85.47061877,\n",
              "        85.29086505,  85.11221337,  84.93465256,  84.75817162,\n",
              "        84.5827597 ,  84.40840612,  84.23510031,  84.06283189,\n",
              "        83.89159059,  83.72136629,  83.55214903,  83.38392895,\n",
              "        83.21669636,  83.05044166,  82.88515543,  82.72082834,\n",
              "        82.55745119,  82.39501491,  82.23351056,  82.07292929,\n",
              "        81.91326239,  81.75450125,  81.5966374 ,  81.43966245,\n",
              "        81.28356813,  81.12834628,  80.97398883,  80.82048785,\n",
              "        80.66783547,  80.51602394,  80.36504561,  80.21489293,\n",
              "        80.06555843,  79.91703475,  79.7693146 ,  79.62239082,\n",
              "        79.4762563 ,  79.33090403,  79.18632711,  79.04251868,\n",
              "        78.89947201,  78.75718042,  78.61563733,  78.47483623,\n",
              "        78.33477069,  78.19543437,  78.05682098,  77.91892432,\n",
              "        77.78173828,  77.6452568 ,  77.5094739 ,  77.37438367,\n",
              "        77.23998027,  77.10625793])"
            ]
          },
          "metadata": {},
          "execution_count": 32
        }
      ]
    },
    {
      "cell_type": "code",
      "source": [
        "#y = exp(7.340769199079349 + -0.53050852*X)"
      ],
      "metadata": {
        "id": "dcKLsf7LlSAU"
      },
      "id": "dcKLsf7LlSAU",
      "execution_count": null,
      "outputs": []
    },
    {
      "cell_type": "code",
      "source": [
        "cpwl/1000"
      ],
      "metadata": {
        "colab": {
          "base_uri": "https://localhost:8080/"
        },
        "id": "mqkWbl6n5ks2",
        "outputId": "a536fe8e-5d97-4c0a-d6b0-580b23cc1427"
      },
      "id": "mqkWbl6n5ks2",
      "execution_count": null,
      "outputs": [
        {
          "output_type": "execute_result",
          "data": {
            "text/plain": [
              "array([0.75 , 0.675, 0.663, 0.652, 0.552, 0.51 , 0.496, 0.445, 0.43 ,\n",
              "       0.375, 0.428, 0.371, 0.356, 0.355, 0.331, 0.31 , 0.332, 0.322,\n",
              "       0.311, 0.283, 0.286, 0.306, 0.288, 0.298, 0.267, 0.273, 0.241,\n",
              "       0.246, 0.224, 0.249, 0.259, 0.242, 0.238, 0.239, 0.205, 0.222,\n",
              "       0.221, 0.21 , 0.222, 0.21 , 0.205, 0.226, 0.19 , 0.186, 0.212,\n",
              "       0.196, 0.197, 0.196, 0.183, 0.201, 0.182, 0.18 , 0.185, 0.194,\n",
              "       0.18 , 0.188, 0.197, 0.202, 0.18 , 0.17 , 0.171, 0.178, 0.166,\n",
              "       0.169, 0.17 , 0.167, 0.144, 0.175, 0.161, 0.144, 0.155, 0.183,\n",
              "       0.173, 0.163, 0.157, 0.148, 0.145, 0.163, 0.145, 0.133, 0.153,\n",
              "       0.138, 0.138, 0.157, 0.158, 0.149, 0.136, 0.154, 0.151, 0.154,\n",
              "       0.141, 0.151, 0.161, 0.133, 0.143, 0.139, 0.143, 0.145])"
            ]
          },
          "metadata": {},
          "execution_count": 9
        }
      ]
    },
    {
      "cell_type": "code",
      "source": [
        "walk_length"
      ],
      "metadata": {
        "id": "5LLWjSbZ5mGT"
      },
      "id": "5LLWjSbZ5mGT",
      "execution_count": null,
      "outputs": []
    },
    {
      "cell_type": "code",
      "source": [
        "perc_p"
      ],
      "metadata": {
        "colab": {
          "base_uri": "https://localhost:8080/"
        },
        "id": "phoKdWI35mhW",
        "outputId": "85ec9311-7f08-4ca0-958f-02ac0a6cb491"
      },
      "id": "phoKdWI35mhW",
      "execution_count": null,
      "outputs": [
        {
          "output_type": "execute_result",
          "data": {
            "text/plain": [
              "[0.0,\n",
              " 1.4042654220543672e-24,\n",
              " 0.0,\n",
              " 0.0004541491691941689,\n",
              " 3.3143960262001043e-05,\n",
              " 8.762523965086177e-05,\n",
              " 2.279854920641689e-05,\n",
              " 1.118303770149319e-05,\n",
              " 3.9272610809659444e-06,\n",
              " 1.1239312789557584e-06,\n",
              " 1.661613698567939e-07,\n",
              " 7.072303009204256e-09,\n",
              " 3.3439000100406954e-07,\n",
              " 4.79175684831834e-09,\n",
              " 1.5597650189845142e-09,\n",
              " 6.8716449563255465e-09,\n",
              " 2.429729310669123e-10,\n",
              " 2.5176424662475392e-11,\n",
              " 4.705163796054206e-11,\n",
              " 2.971868444999934e-11,\n",
              " 1.0036019675593056e-12,\n",
              " 1.7503491349414965e-12,\n",
              " 1.0911485424058796e-12,\n",
              " 1.388023333541597e-12,\n",
              " 9.229892876015256e-13,\n",
              " 6.058263936956089e-13,\n",
              " 7.273475740758801e-12,\n",
              " 2.0804107865772793e-15,\n",
              " 6.468215518572115e-15,\n",
              " 2.9974254614388077e-17,\n",
              " 2.8278922381371023e-16,\n",
              " 4.1431207285510916e-14,\n",
              " 2.876917119901389e-17,\n",
              " 1.8909895790022836e-20,\n",
              " 7.948165312268889e-19,\n",
              " 9.968085087358393e-18,\n",
              " 5.580826792635759e-18,\n",
              " 1.1167513986857655e-19,\n",
              " 3.3166865980938997e-18,\n",
              " 5.542264657141657e-19,\n",
              " 3.829316981314679e-22,\n",
              " 2.7144484727554327e-20,\n",
              " 3.464341655503509e-21,\n",
              " 2.0871589138950088e-22,\n",
              " 1.1906676528324396e-21,\n",
              " 4.902344039846804e-24,\n",
              " 2.580174732392971e-25,\n",
              " 2.2015414009325568e-20,\n",
              " 3.058977772940545e-26,\n",
              " 2.4056422774414607e-25,\n",
              " 1.881626634474642e-24,\n",
              " 9.529961314225636e-30,\n",
              " 7.771954303834719e-29,\n",
              " 2.744264078158425e-25,\n",
              " 7.870080629217416e-29,\n",
              " 1.8005681445854813e-24,\n",
              " 5.673988076312473e-27,\n",
              " 2.810393381333984e-26,\n",
              " 1.6005412261234165e-27,\n",
              " 2.689121240124453e-29,\n",
              " 1.5968879601748181e-31,\n",
              " 1.7496704958032251e-31,\n",
              " 1.0509290324195611e-35,\n",
              " 2.1534790604590465e-29,\n",
              " 2.1590353235855845e-30,\n",
              " 9.235261443742075e-29,\n",
              " 2.907951399283309e-32,\n",
              " 2.1659668623114368e-29,\n",
              " 1.1651732776625153e-35,\n",
              " 8.936472031477993e-38,\n",
              " 3.120833376575019e-36,\n",
              " 4.590748507112443e-34,\n",
              " 1.9446052079308605e-33,\n",
              " 2.0778060279706484e-31,\n",
              " 1.7287302374143086e-33,\n",
              " 2.6138604298345928e-39,\n",
              " 8.491496197204932e-44,\n",
              " 3.6240828457783763e-35,\n",
              " 2.4275797751844722e-40,\n",
              " 9.176455956682833e-45,\n",
              " 2.772393526807146e-39,\n",
              " 5.47416870628267e-38,\n",
              " 2.6277142339022854e-38,\n",
              " 1.4348677516013311e-33,\n",
              " 1.0301929248703995e-36,\n",
              " 1.2116166831019073e-33,\n",
              " 8.684367934064346e-45,\n",
              " 1.7802947043842753e-42,\n",
              " 2.52967304941158e-40,\n",
              " 1.539896845906632e-44,\n",
              " 4.277895179604476e-55,\n",
              " 4.827044414678849e-41,\n",
              " 3.2111730619530147e-43,\n",
              " 1.413209481573884e-46,\n",
              " 6.357667652228614e-45,\n",
              " 1.4996654084619912e-53,\n",
              " 4.3935428958361964e-49,\n",
              " 1.01321606636603e-49]"
            ]
          },
          "metadata": {},
          "execution_count": 33
        }
      ]
    },
    {
      "cell_type": "code",
      "source": [
        "lp_p = np.log(perc_p)"
      ],
      "metadata": {
        "colab": {
          "base_uri": "https://localhost:8080/"
        },
        "id": "_CGy7VLu-BZJ",
        "outputId": "49e5f22e-bf78-489a-f4b4-ecdc0900da1d"
      },
      "id": "_CGy7VLu-BZJ",
      "execution_count": null,
      "outputs": [
        {
          "output_type": "stream",
          "name": "stderr",
          "text": [
            "/usr/local/lib/python3.7/dist-packages/ipykernel_launcher.py:1: RuntimeWarning: divide by zero encountered in log\n",
            "  \"\"\"Entry point for launching an IPython kernel.\n"
          ]
        }
      ]
    },
    {
      "cell_type": "code",
      "source": [
        "plt.plot(walk_length, lp_p)"
      ],
      "metadata": {
        "colab": {
          "base_uri": "https://localhost:8080/",
          "height": 282
        },
        "id": "EO40GgGq9NYd",
        "outputId": "35c6fb4e-91b7-4e9c-df04-dfb9d65aaa32"
      },
      "id": "EO40GgGq9NYd",
      "execution_count": null,
      "outputs": [
        {
          "output_type": "execute_result",
          "data": {
            "text/plain": [
              "[<matplotlib.lines.Line2D at 0x7ffa978ad990>]"
            ]
          },
          "metadata": {},
          "execution_count": 37
        },
        {
          "output_type": "display_data",
          "data": {
            "text/plain": [
              "<Figure size 432x288 with 1 Axes>"
            ],
            "image/png": "[encoded data removed]"
          },
          "metadata": {
            "needs_background": "light"
          }
        }
      ]
    },
    {
      "cell_type": "code",
      "source": [
        "pr_df = pd.DataFrame({'walk_length':walk_length, 'lp_p':lp_p})\n",
        "pr_df"
      ],
      "metadata": {
        "colab": {
          "base_uri": "https://localhost:8080/",
          "height": 424
        },
        "id": "ES8gh3K89TKz",
        "outputId": "309a5e4e-4b87-48cb-fd58-20153b72231b"
      },
      "id": "ES8gh3K89TKz",
      "execution_count": null,
      "outputs": [
        {
          "output_type": "execute_result",
          "data": {
            "text/plain": [
              "    walk_length        lp_p\n",
              "0             3        -inf\n",
              "1             4  -54.922528\n",
              "2             5        -inf\n",
              "3             6   -7.697085\n",
              "4             7  -10.314650\n",
              "..          ...         ...\n",
              "93           96 -109.734749\n",
              "94           97 -101.315255\n",
              "95           98 -109.308644\n",
              "96           99 -111.541865\n",
              "97          100 -106.200778\n",
              "\n",
              "[98 rows x 2 columns]"
            ],
            "text/html": [
              "\n",
              "  <div id=\"df-ffc1812d-1d60-4949-b499-466367c3696f\">\n",
              "    <div class=\"colab-df-container\">\n",
              "      <div>\n",
              "<style scoped>\n",
              "    .dataframe tbody tr th:only-of-type {\n",
              "        vertical-align: middle;\n",
              "    }\n",
              "\n",
              "    .dataframe tbody tr th {\n",
              "        vertical-align: top;\n",
              "    }\n",
              "\n",
              "    .dataframe thead th {\n",
              "        text-align: right;\n",
              "    }\n",
              "</style>\n",
              "<table border=\"1\" class=\"dataframe\">\n",
              "  <thead>\n",
              "    <tr style=\"text-align: right;\">\n",
              "      <th></th>\n",
              "      <th>walk_length</th>\n",
              "      <th>lp_p</th>\n",
              "    </tr>\n",
              "  </thead>\n",
              "  <tbody>\n",
              "    <tr>\n",
              "      <th>0</th>\n",
              "      <td>3</td>\n",
              "      <td>-inf</td>\n",
              "    </tr>\n",
              "    <tr>\n",
              "      <th>1</th>\n",
              "      <td>4</td>\n",
              "      <td>-54.922528</td>\n",
              "    </tr>\n",
              "    <tr>\n",
              "      <th>2</th>\n",
              "      <td>5</td>\n",
              "      <td>-inf</td>\n",
              "    </tr>\n",
              "    <tr>\n",
              "      <th>3</th>\n",
              "      <td>6</td>\n",
              "      <td>-7.697085</td>\n",
              "    </tr>\n",
              "    <tr>\n",
              "      <th>4</th>\n",
              "      <td>7</td>\n",
              "      <td>-10.314650</td>\n",
              "    </tr>\n",
              "    <tr>\n",
              "      <th>...</th>\n",
              "      <td>...</td>\n",
              "      <td>...</td>\n",
              "    </tr>\n",
              "    <tr>\n",
              "      <th>93</th>\n",
              "      <td>96</td>\n",
              "      <td>-109.734749</td>\n",
              "    </tr>\n",
              "    <tr>\n",
              "      <th>94</th>\n",
              "      <td>97</td>\n",
              "      <td>-101.315255</td>\n",
              "    </tr>\n",
              "    <tr>\n",
              "      <th>95</th>\n",
              "      <td>98</td>\n",
              "      <td>-109.308644</td>\n",
              "    </tr>\n",
              "    <tr>\n",
              "      <th>96</th>\n",
              "      <td>99</td>\n",
              "      <td>-111.541865</td>\n",
              "    </tr>\n",
              "    <tr>\n",
              "      <th>97</th>\n",
              "      <td>100</td>\n",
              "      <td>-106.200778</td>\n",
              "    </tr>\n",
              "  </tbody>\n",
              "</table>\n",
              "<p>98 rows × 2 columns</p>\n",
              "</div>\n",
              "      <button class=\"colab-df-convert\" onclick=\"convertToInteractive('df-ffc1812d-1d60-4949-b499-466367c3696f')\"\n",
              "              title=\"Convert this dataframe to an interactive table.\"\n",
              "              style=\"display:none;\">\n",
              "        \n",
              "  <svg xmlns=\"http://www.w3.org/2000/svg\" height=\"24px\"viewBox=\"0 0 24 24\"\n",
              "       width=\"24px\">\n",
              "    <path d=\"M0 0h24v24H0V0z\" fill=\"none\"/>\n",
              "    <path d=\"M18.56 5.44l.94 2.06.94-2.06 2.06-.94-2.06-.94-.94-2.06-.94 2.06-2.06.94zm-11 1L8.5 8.5l.94-2.06 2.06-.94-2.06-.94L8.5 2.5l-.94 2.06-2.06.94zm10 10l.94 2.06.94-2.06 2.06-.94-2.06-.94-.94-2.06-.94 2.06-2.06.94z\"/><path d=\"M17.41 7.96l-1.37-1.37c-.4-.4-.92-.59-1.43-.59-.52 0-1.04.2-1.43.59L10.3 9.45l-7.72 7.72c-.78.78-.78 2.05 0 2.83L4 21.41c.39.39.9.59 1.41.59.51 0 1.02-.2 1.41-.59l7.78-7.78 2.81-2.81c.8-.78.8-2.07 0-2.86zM5.41 20L4 18.59l7.72-7.72 1.47 1.35L5.41 20z\"/>\n",
              "  </svg>\n",
              "      </button>\n",
              "      \n",
              "  <style>\n",
              "    .colab-df-container {\n",
              "      display:flex;\n",
              "      flex-wrap:wrap;\n",
              "      gap: 12px;\n",
              "    }\n",
              "\n",
              "    .colab-df-convert {\n",
              "      background-color: #E8F0FE;\n",
              "      border: none;\n",
              "      border-radius: 50%;\n",
              "      cursor: pointer;\n",
              "      display: none;\n",
              "      fill: #1967D2;\n",
              "      height: 32px;\n",
              "      padding: 0 0 0 0;\n",
              "      width: 32px;\n",
              "    }\n",
              "\n",
              "    .colab-df-convert:hover {\n",
              "      background-color: #E2EBFA;\n",
              "      box-shadow: 0px 1px 2px rgba(60, 64, 67, 0.3), 0px 1px 3px 1px rgba(60, 64, 67, 0.15);\n",
              "      fill: #174EA6;\n",
              "    }\n",
              "\n",
              "    [theme=dark] .colab-df-convert {\n",
              "      background-color: #3B4455;\n",
              "      fill: #D2E3FC;\n",
              "    }\n",
              "\n",
              "    [theme=dark] .colab-df-convert:hover {\n",
              "      background-color: #434B5C;\n",
              "      box-shadow: 0px 1px 3px 1px rgba(0, 0, 0, 0.15);\n",
              "      filter: drop-shadow(0px 1px 2px rgba(0, 0, 0, 0.3));\n",
              "      fill: #FFFFFF;\n",
              "    }\n",
              "  </style>\n",
              "\n",
              "      <script>\n",
              "        const buttonEl =\n",
              "          document.querySelector('#df-ffc1812d-1d60-4949-b499-466367c3696f button.colab-df-convert');\n",
              "        buttonEl.style.display =\n",
              "          google.colab.kernel.accessAllowed ? 'block' : 'none';\n",
              "\n",
              "        async function convertToInteractive(key) {\n",
              "          const element = document.querySelector('#df-ffc1812d-1d60-4949-b499-466367c3696f');\n",
              "          const dataTable =\n",
              "            await google.colab.kernel.invokeFunction('convertToInteractive',\n",
              "                                                     [key], {});\n",
              "          if (!dataTable) return;\n",
              "\n",
              "          const docLinkHtml = 'Like what you see? Visit the ' +\n",
              "            '<a target=\"_blank\" href=https://colab.research.google.com/notebooks/data_table.ipynb>data table notebook</a>'\n",
              "            + ' to learn more about interactive tables.';\n",
              "          element.innerHTML = '';\n",
              "          dataTable['output_type'] = 'display_data';\n",
              "          await google.colab.output.renderOutput(dataTable, element);\n",
              "          const docLink = document.createElement('div');\n",
              "          docLink.innerHTML = docLinkHtml;\n",
              "          element.appendChild(docLink);\n",
              "        }\n",
              "      </script>\n",
              "    </div>\n",
              "  </div>\n",
              "  "
            ]
          },
          "metadata": {},
          "execution_count": 23
        }
      ]
    },
    {
      "cell_type": "code",
      "source": [
        "y_1= pr_df.lp_p\n",
        "X_1 = pr_df[[\"walk_length\"]]"
      ],
      "metadata": {
        "id": "5EeHhffo-R0k"
      },
      "id": "5EeHhffo-R0k",
      "execution_count": null,
      "outputs": []
    },
    {
      "cell_type": "code",
      "source": [
        "lr_model_1 = LinearRegression().fit(X_1, y_1)\n",
        "lr_model_1"
      ],
      "metadata": {
        "colab": {
          "base_uri": "https://localhost:8080/",
          "height": 329
        },
        "id": "89Lp1lTW-hG9",
        "outputId": "845c7f21-f803-42df-f488-bb774653e698"
      },
      "id": "89Lp1lTW-hG9",
      "execution_count": null,
      "outputs": [
        {
          "output_type": "error",
          "ename": "ValueError",
          "evalue": "ignored",
          "traceback": [
            "\u001b[0;31m---------------------------------------------------------------------------\u001b[0m",
            "\u001b[0;31mValueError\u001b[0m                                Traceback (most recent call last)",
            "\u001b[0;32m<ipython-input-27-c58dd0e2c626>\u001b[0m in \u001b[0;36m<module>\u001b[0;34m\u001b[0m\n\u001b[0;32m----> 1\u001b[0;31m \u001b[0mlr_model_1\u001b[0m \u001b[0;34m=\u001b[0m \u001b[0mLinearRegression\u001b[0m\u001b[0;34m(\u001b[0m\u001b[0;34m)\u001b[0m\u001b[0;34m.\u001b[0m\u001b[0mfit\u001b[0m\u001b[0;34m(\u001b[0m\u001b[0mX_1\u001b[0m\u001b[0;34m,\u001b[0m \u001b[0my_1\u001b[0m\u001b[0;34m)\u001b[0m\u001b[0;34m\u001b[0m\u001b[0;34m\u001b[0m\u001b[0m\n\u001b[0m\u001b[1;32m      2\u001b[0m \u001b[0mlr_model_1\u001b[0m\u001b[0;34m\u001b[0m\u001b[0;34m\u001b[0m\u001b[0m\n",
            "\u001b[0;32m/usr/local/lib/python3.7/dist-packages/sklearn/linear_model/_base.py\u001b[0m in \u001b[0;36mfit\u001b[0;34m(self, X, y, sample_weight)\u001b[0m\n\u001b[1;32m    661\u001b[0m \u001b[0;34m\u001b[0m\u001b[0m\n\u001b[1;32m    662\u001b[0m         X, y = self._validate_data(\n\u001b[0;32m--> 663\u001b[0;31m             \u001b[0mX\u001b[0m\u001b[0;34m,\u001b[0m \u001b[0my\u001b[0m\u001b[0;34m,\u001b[0m \u001b[0maccept_sparse\u001b[0m\u001b[0;34m=\u001b[0m\u001b[0maccept_sparse\u001b[0m\u001b[0;34m,\u001b[0m \u001b[0my_numeric\u001b[0m\u001b[0;34m=\u001b[0m\u001b[0;32mTrue\u001b[0m\u001b[0;34m,\u001b[0m \u001b[0mmulti_output\u001b[0m\u001b[0;34m=\u001b[0m\u001b[0;32mTrue\u001b[0m\u001b[0;34m\u001b[0m\u001b[0;34m\u001b[0m\u001b[0m\n\u001b[0m\u001b[1;32m    664\u001b[0m         )\n\u001b[1;32m    665\u001b[0m \u001b[0;34m\u001b[0m\u001b[0m\n",
            "\u001b[0;32m/usr/local/lib/python3.7/dist-packages/sklearn/base.py\u001b[0m in \u001b[0;36m_validate_data\u001b[0;34m(self, X, y, reset, validate_separately, **check_params)\u001b[0m\n\u001b[1;32m    579\u001b[0m                 \u001b[0my\u001b[0m \u001b[0;34m=\u001b[0m \u001b[0mcheck_array\u001b[0m\u001b[0;34m(\u001b[0m\u001b[0my\u001b[0m\u001b[0;34m,\u001b[0m \u001b[0;34m**\u001b[0m\u001b[0mcheck_y_params\u001b[0m\u001b[0;34m)\u001b[0m\u001b[0;34m\u001b[0m\u001b[0;34m\u001b[0m\u001b[0m\n\u001b[1;32m    580\u001b[0m             \u001b[0;32melse\u001b[0m\u001b[0;34m:\u001b[0m\u001b[0;34m\u001b[0m\u001b[0;34m\u001b[0m\u001b[0m\n\u001b[0;32m--> 581\u001b[0;31m                 \u001b[0mX\u001b[0m\u001b[0;34m,\u001b[0m \u001b[0my\u001b[0m \u001b[0;34m=\u001b[0m \u001b[0mcheck_X_y\u001b[0m\u001b[0;34m(\u001b[0m\u001b[0mX\u001b[0m\u001b[0;34m,\u001b[0m \u001b[0my\u001b[0m\u001b[0;34m,\u001b[0m \u001b[0;34m**\u001b[0m\u001b[0mcheck_params\u001b[0m\u001b[0;34m)\u001b[0m\u001b[0;34m\u001b[0m\u001b[0;34m\u001b[0m\u001b[0m\n\u001b[0m\u001b[1;32m    582\u001b[0m             \u001b[0mout\u001b[0m \u001b[0;34m=\u001b[0m \u001b[0mX\u001b[0m\u001b[0;34m,\u001b[0m \u001b[0my\u001b[0m\u001b[0;34m\u001b[0m\u001b[0;34m\u001b[0m\u001b[0m\n\u001b[1;32m    583\u001b[0m \u001b[0;34m\u001b[0m\u001b[0m\n",
            "\u001b[0;32m/usr/local/lib/python3.7/dist-packages/sklearn/utils/validation.py\u001b[0m in \u001b[0;36mcheck_X_y\u001b[0;34m(X, y, accept_sparse, accept_large_sparse, dtype, order, copy, force_all_finite, ensure_2d, allow_nd, multi_output, ensure_min_samples, ensure_min_features, y_numeric, estimator)\u001b[0m\n\u001b[1;32m    977\u001b[0m     )\n\u001b[1;32m    978\u001b[0m \u001b[0;34m\u001b[0m\u001b[0m\n\u001b[0;32m--> 979\u001b[0;31m     \u001b[0my\u001b[0m \u001b[0;34m=\u001b[0m \u001b[0m_check_y\u001b[0m\u001b[0;34m(\u001b[0m\u001b[0my\u001b[0m\u001b[0;34m,\u001b[0m \u001b[0mmulti_output\u001b[0m\u001b[0;34m=\u001b[0m\u001b[0mmulti_output\u001b[0m\u001b[0;34m,\u001b[0m \u001b[0my_numeric\u001b[0m\u001b[0;34m=\u001b[0m\u001b[0my_numeric\u001b[0m\u001b[0;34m)\u001b[0m\u001b[0;34m\u001b[0m\u001b[0;34m\u001b[0m\u001b[0m\n\u001b[0m\u001b[1;32m    980\u001b[0m \u001b[0;34m\u001b[0m\u001b[0m\n\u001b[1;32m    981\u001b[0m     \u001b[0mcheck_consistent_length\u001b[0m\u001b[0;34m(\u001b[0m\u001b[0mX\u001b[0m\u001b[0;34m,\u001b[0m \u001b[0my\u001b[0m\u001b[0;34m)\u001b[0m\u001b[0;34m\u001b[0m\u001b[0;34m\u001b[0m\u001b[0m\n",
            "\u001b[0;32m/usr/local/lib/python3.7/dist-packages/sklearn/utils/validation.py\u001b[0m in \u001b[0;36m_check_y\u001b[0;34m(y, multi_output, y_numeric)\u001b[0m\n\u001b[1;32m    988\u001b[0m     \u001b[0;32mif\u001b[0m \u001b[0mmulti_output\u001b[0m\u001b[0;34m:\u001b[0m\u001b[0;34m\u001b[0m\u001b[0;34m\u001b[0m\u001b[0m\n\u001b[1;32m    989\u001b[0m         y = check_array(\n\u001b[0;32m--> 990\u001b[0;31m             \u001b[0my\u001b[0m\u001b[0;34m,\u001b[0m \u001b[0maccept_sparse\u001b[0m\u001b[0;34m=\u001b[0m\u001b[0;34m\"csr\"\u001b[0m\u001b[0;34m,\u001b[0m \u001b[0mforce_all_finite\u001b[0m\u001b[0;34m=\u001b[0m\u001b[0;32mTrue\u001b[0m\u001b[0;34m,\u001b[0m \u001b[0mensure_2d\u001b[0m\u001b[0;34m=\u001b[0m\u001b[0;32mFalse\u001b[0m\u001b[0;34m,\u001b[0m \u001b[0mdtype\u001b[0m\u001b[0;34m=\u001b[0m\u001b[0;32mNone\u001b[0m\u001b[0;34m\u001b[0m\u001b[0;34m\u001b[0m\u001b[0m\n\u001b[0m\u001b[1;32m    991\u001b[0m         )\n\u001b[1;32m    992\u001b[0m     \u001b[0;32melse\u001b[0m\u001b[0;34m:\u001b[0m\u001b[0;34m\u001b[0m\u001b[0;34m\u001b[0m\u001b[0m\n",
            "\u001b[0;32m/usr/local/lib/python3.7/dist-packages/sklearn/utils/validation.py\u001b[0m in \u001b[0;36mcheck_array\u001b[0;34m(array, accept_sparse, accept_large_sparse, dtype, order, copy, force_all_finite, ensure_2d, allow_nd, ensure_min_samples, ensure_min_features, estimator)\u001b[0m\n\u001b[1;32m    798\u001b[0m \u001b[0;34m\u001b[0m\u001b[0m\n\u001b[1;32m    799\u001b[0m         \u001b[0;32mif\u001b[0m \u001b[0mforce_all_finite\u001b[0m\u001b[0;34m:\u001b[0m\u001b[0;34m\u001b[0m\u001b[0;34m\u001b[0m\u001b[0m\n\u001b[0;32m--> 800\u001b[0;31m             \u001b[0m_assert_all_finite\u001b[0m\u001b[0;34m(\u001b[0m\u001b[0marray\u001b[0m\u001b[0;34m,\u001b[0m \u001b[0mallow_nan\u001b[0m\u001b[0;34m=\u001b[0m\u001b[0mforce_all_finite\u001b[0m \u001b[0;34m==\u001b[0m \u001b[0;34m\"allow-nan\"\u001b[0m\u001b[0;34m)\u001b[0m\u001b[0;34m\u001b[0m\u001b[0;34m\u001b[0m\u001b[0m\n\u001b[0m\u001b[1;32m    801\u001b[0m \u001b[0;34m\u001b[0m\u001b[0m\n\u001b[1;32m    802\u001b[0m     \u001b[0;32mif\u001b[0m \u001b[0mensure_min_samples\u001b[0m \u001b[0;34m>\u001b[0m \u001b[0;36m0\u001b[0m\u001b[0;34m:\u001b[0m\u001b[0;34m\u001b[0m\u001b[0;34m\u001b[0m\u001b[0m\n",
            "\u001b[0;32m/usr/local/lib/python3.7/dist-packages/sklearn/utils/validation.py\u001b[0m in \u001b[0;36m_assert_all_finite\u001b[0;34m(X, allow_nan, msg_dtype)\u001b[0m\n\u001b[1;32m    114\u001b[0m             raise ValueError(\n\u001b[1;32m    115\u001b[0m                 msg_err.format(\n\u001b[0;32m--> 116\u001b[0;31m                     \u001b[0mtype_err\u001b[0m\u001b[0;34m,\u001b[0m \u001b[0mmsg_dtype\u001b[0m \u001b[0;32mif\u001b[0m \u001b[0mmsg_dtype\u001b[0m \u001b[0;32mis\u001b[0m \u001b[0;32mnot\u001b[0m \u001b[0;32mNone\u001b[0m \u001b[0;32melse\u001b[0m \u001b[0mX\u001b[0m\u001b[0;34m.\u001b[0m\u001b[0mdtype\u001b[0m\u001b[0;34m\u001b[0m\u001b[0;34m\u001b[0m\u001b[0m\n\u001b[0m\u001b[1;32m    117\u001b[0m                 )\n\u001b[1;32m    118\u001b[0m             )\n",
            "\u001b[0;31mValueError\u001b[0m: Input contains NaN, infinity or a value too large for dtype('float64')."
          ]
        }
      ]
    },
    {
      "cell_type": "code",
      "source": [
        "log_regy_1 = lr_model_1.intercept_ + (lr_model_1.coef_*logx)"
      ],
      "metadata": {
        "id": "3-iEB-rmCDUi"
      },
      "id": "3-iEB-rmCDUi",
      "execution_count": null,
      "outputs": []
    },
    {
      "cell_type": "code",
      "source": [
        "plt.plot(walk_length, lp_p)\n",
        "plt.plot(walk_length, log_regy_1)\n",
        "plt.show"
      ],
      "metadata": {
        "id": "XTHPilLfCMrQ"
      },
      "id": "XTHPilLfCMrQ",
      "execution_count": null,
      "outputs": []
    },
    {
      "cell_type": "code",
      "source": [
        "def pval_graph_pearson3(n,k):\n",
        "  x, y = 0,0\n",
        "  simulation_p = np.arange(n + 1)\n",
        "  walk_length = []\n",
        "  pval_p = [y]\n",
        "  avg_p = []\n",
        "  perc_p = []\n",
        "  count = []\n",
        "  for p in range(20, k+1):\n",
        "    pval_p = []\n",
        "    for i in range(1, n+1):\n",
        "      time_data, pos_data = randomwalk1D(p)\n",
        "      pval_res1 = ss.spearmanr(time_data, pos_data)\n",
        "      y = pval_res1.pvalue\n",
        "      if y > 0.05:\n",
        "          count.append(1)\n",
        "      else:\n",
        "          count.append(0)\n",
        "      pval_p.append(y)\n",
        "      count = count\n",
        "    walk_length.append(p)\n",
        "    avgp = np.mean(pval_p)\n",
        "    perc = np.percentile(pval_p, 5, interpolation = 'nearest')\n",
        "    avg_p.append(avgp)\n",
        "    perc_p.append(perc)\n",
        "    cpwl = np.add.reduceat(count, np.arange(0, len(count), n))\n",
        "    totalcount = sum(count)\n",
        "  return walk_length, avg_p, count, totalcount, cpwl, n, k, perc_p"
      ],
      "metadata": {
        "id": "3RIucVd5-q4z"
      },
      "id": "3RIucVd5-q4z",
      "execution_count": null,
      "outputs": []
    },
    {
      "cell_type": "code",
      "source": [
        "walk_length3, avg_pval3, count3, totalcount3, cpwl3, n3, k3, perc_p3 = pval_graph_pearson3(1000,300)"
      ],
      "metadata": {
        "id": "fcEbCNkyBLNY"
      },
      "id": "fcEbCNkyBLNY",
      "execution_count": null,
      "outputs": []
    },
    {
      "cell_type": "code",
      "source": [
        "perc_p3"
      ],
      "metadata": {
        "colab": {
          "base_uri": "https://localhost:8080/"
        },
        "id": "JRZNiqHJBWN1",
        "outputId": "e1d6e89c-7103-4e34-890c-3695cf4c3198"
      },
      "id": "JRZNiqHJBWN1",
      "execution_count": null,
      "outputs": [
        {
          "output_type": "execute_result",
          "data": {
            "text/plain": [
              "[8.44287328049144e-11,\n",
              " 5.7084799258788046e-11,\n",
              " 8.522205691075868e-12,\n",
              " 1.2143629807472531e-12,\n",
              " 7.979727229407689e-13,\n",
              " 4.137480888788617e-13,\n",
              " 7.985788731245063e-14,\n",
              " 4.1863870849586334e-14,\n",
              " 4.9425141901836515e-15,\n",
              " 1.4895551806856827e-14,\n",
              " 2.8010718455713633e-15,\n",
              " 1.2845489971309584e-15,\n",
              " 4.0511530068103143e-16,\n",
              " 1.2269076732454394e-17,\n",
              " 6.474267044574617e-17,\n",
              " 7.878619769694838e-18,\n",
              " 4.5332188866824935e-18,\n",
              " 3.458086909746159e-19,\n",
              " 3.3604023078964087e-19,\n",
              " 2.470395302818197e-19,\n",
              " 2.7413834514555543e-19,\n",
              " 2.1019581427663353e-20,\n",
              " 6.256785148908092e-22,\n",
              " 1.2585131868243102e-21,\n",
              " 1.954642398628452e-22,\n",
              " 4.0076718695083685e-22,\n",
              " 7.138319605948204e-24,\n",
              " 1.1969593213647693e-22,\n",
              " 1.671656173167223e-23,\n",
              " 6.435861809756643e-25,\n",
              " 2.0173801697270264e-24,\n",
              " 2.1162685749473152e-24,\n",
              " 1.327593276517996e-26,\n",
              " 1.9815549261672013e-26,\n",
              " 6.21923066352428e-27,\n",
              " 5.4782806953825896e-27,\n",
              " 7.258209518388172e-29,\n",
              " 1.3276743755788119e-27,\n",
              " 9.261598568431343e-29,\n",
              " 5.889782355274588e-28,\n",
              " 1.6345620766862577e-29,\n",
              " 1.4452056073655636e-29,\n",
              " 2.407634172280298e-29,\n",
              " 5.630390545191104e-30,\n",
              " 8.905814977500546e-31,\n",
              " 5.3214711080339766e-33,\n",
              " 2.572924858060914e-32,\n",
              " 1.5027409730444268e-32,\n",
              " 1.5663966399044234e-33,\n",
              " 1.832022118624368e-32,\n",
              " 1.3006438844563727e-32,\n",
              " 3.073095055538659e-32,\n",
              " 2.752194209113515e-36,\n",
              " 1.6266070245365185e-34,\n",
              " 5.314118066046969e-35,\n",
              " 6.527615527677915e-36,\n",
              " 1.0204916191711225e-36,\n",
              " 8.10655617951215e-36,\n",
              " 1.2609300098168539e-39,\n",
              " 4.7594680275509674e-39,\n",
              " 1.780736806182033e-37,\n",
              " 2.318532002812153e-41,\n",
              " 6.424776015941362e-39,\n",
              " 1.9123278103820365e-41,\n",
              " 2.243248957278175e-42,\n",
              " 2.990064708076432e-39,\n",
              " 3.51220272783507e-39,\n",
              " 1.7601776367857045e-43,\n",
              " 1.5818844165002823e-44,\n",
              " 1.2754154753473617e-43,\n",
              " 1.0671024950677414e-43,\n",
              " 5.287657818065709e-43,\n",
              " 1.800475905910959e-45,\n",
              " 2.645283245320877e-45,\n",
              " 2.0321796783399095e-43,\n",
              " 7.012192744910962e-46,\n",
              " 6.348095523917287e-46,\n",
              " 9.074104281293045e-49,\n",
              " 3.8706030390125272e-50,\n",
              " 1.9444467359493617e-47,\n",
              " 4.630610785984235e-48,\n",
              " 8.347564814848541e-48,\n",
              " 3.4780357832235805e-47,\n",
              " 5.767374268210927e-50,\n",
              " 8.75519604446123e-51,\n",
              " 4.014874634036097e-49,\n",
              " 2.1828164737453602e-51,\n",
              " 3.198102402027023e-52,\n",
              " 8.656275105156277e-50,\n",
              " 2.543495749984862e-52,\n",
              " 1.2731857285149353e-52,\n",
              " 5.468993903624449e-51,\n",
              " 2.2253710260815138e-54,\n",
              " 9.483092261483162e-53,\n",
              " 2.314732505514604e-54,\n",
              " 1.0290302868185964e-53,\n",
              " 3.8362723605322675e-55,\n",
              " 3.1417380910954404e-55,\n",
              " 3.2171547746218445e-55,\n",
              " 1.0579719504015056e-54,\n",
              " 1.1713088150166275e-54,\n",
              " 3.7489005842282164e-56,\n",
              " 6.115671680898048e-59,\n",
              " 4.915931387283861e-58,\n",
              " 1.5723488107483987e-58,\n",
              " 1.0188367108036304e-57,\n",
              " 1.0355055414179722e-58,\n",
              " 7.23336976250057e-61,\n",
              " 1.3015687669427327e-59,\n",
              " 1.4615931666031631e-64,\n",
              " 3.3021107502791944e-64,\n",
              " 4.0706942782278986e-61,\n",
              " 8.34059355221279e-63,\n",
              " 6.262192648021964e-66,\n",
              " 4.145196138639342e-60,\n",
              " 5.1019420559222475e-65,\n",
              " 2.919215685509399e-67,\n",
              " 3.0484736440300462e-62,\n",
              " 3.369455705362036e-71,\n",
              " 8.9039058220737e-65,\n",
              " 4.546742927580372e-67,\n",
              " 1.171703242542214e-64,\n",
              " 1.0528699659383617e-67,\n",
              " 1.279962178380474e-70,\n",
              " 1.2715494751585741e-68,\n",
              " 2.5993131610409172e-67,\n",
              " 2.364954064313001e-67,\n",
              " 7.843837062064048e-73,\n",
              " 2.3572461023211402e-66,\n",
              " 4.4367697577960006e-72,\n",
              " 7.494825843904615e-73,\n",
              " 9.388826192393662e-70,\n",
              " 8.727813603427598e-70,\n",
              " 5.943018697959289e-72,\n",
              " 8.180654136447451e-75,\n",
              " 1.6668520413653803e-80,\n",
              " 3.4713489840612235e-74,\n",
              " 8.83079492451713e-78,\n",
              " 6.34676695728492e-75,\n",
              " 1.4774145816377452e-71,\n",
              " 3.6255641782924686e-71,\n",
              " 1.1792991623611609e-77,\n",
              " 1.5091485596086562e-81,\n",
              " 3.63049906669881e-79,\n",
              " 4.6311369865981654e-77,\n",
              " 2.2891523899750084e-84,\n",
              " 2.123312622823657e-76,\n",
              " 6.171735442776038e-76,\n",
              " 3.663761961534388e-86,\n",
              " 6.18747232725247e-80,\n",
              " 1.9859121873843405e-81,\n",
              " 1.7039637097302554e-82,\n",
              " 2.2205010914703002e-85,\n",
              " 8.791392808996876e-84,\n",
              " 2.5387059010231764e-84,\n",
              " 3.5171110758525447e-82,\n",
              " 5.308692353474059e-82,\n",
              " 4.1476273669270365e-80,\n",
              " 5.92337786669651e-85,\n",
              " 7.62775959066212e-82,\n",
              " 1.3239856311060249e-80,\n",
              " 4.1479836570980415e-80,\n",
              " 1.3996744480057142e-85,\n",
              " 5.7894222494090464e-95,\n",
              " 9.926076271200838e-90,\n",
              " 2.4893190402531587e-87,\n",
              " 1.9709139189930946e-88,\n",
              " 5.257720640606876e-88,\n",
              " 8.97367871773678e-93,\n",
              " 5.439618574243837e-90,\n",
              " 4.9421891624138325e-88,\n",
              " 1.8765306191298228e-92,\n",
              " 1.736046328818232e-97,\n",
              " 3.9554791265291995e-92,\n",
              " 1.9620884977278715e-98,\n",
              " 3.5180617962686486e-93,\n",
              " 1.9457433044403013e-93,\n",
              " 3.6388903489682206e-95,\n",
              " 3.260037221670992e-101,\n",
              " 7.240124375754127e-94,\n",
              " 2.244759501618252e-97,\n",
              " 3.9834110357960913e-100,\n",
              " 5.009338645058988e-92,\n",
              " 3.7736470606551435e-99,\n",
              " 2.446018587142721e-94,\n",
              " 1.6942591893355532e-95,\n",
              " 1.9073256120595856e-91,\n",
              " 1.9922171207307125e-99,\n",
              " 4.331715204326025e-99,\n",
              " 3.1156910347268876e-101,\n",
              " 8.64377743140648e-105,\n",
              " 2.799039718317478e-104,\n",
              " 6.170726602697582e-97,\n",
              " 1.128196523846981e-97,\n",
              " 9.456035989759602e-99,\n",
              " 7.65101443028284e-105,\n",
              " 9.09292367706606e-104,\n",
              " 3.509404495675695e-105,\n",
              " 1.2151035229578518e-96,\n",
              " 2.670273641828956e-106,\n",
              " 4.230512800486362e-105,\n",
              " 1.1592593455475433e-107,\n",
              " 1.0266986426990249e-104,\n",
              " 3.0087766571260218e-96,\n",
              " 1.317941630793894e-103,\n",
              " 3.960810795390751e-110,\n",
              " 5.539768161247355e-106,\n",
              " 4.620418804823607e-104,\n",
              " 2.3438408457448605e-107,\n",
              " 9.308882010390205e-113,\n",
              " 1.6250433684937687e-107,\n",
              " 8.583204040996894e-107,\n",
              " 2.7762351319977437e-102,\n",
              " 3.941395203944011e-115,\n",
              " 1.6882146928130825e-114,\n",
              " 1.2385824175147728e-110,\n",
              " 4.664142594991838e-108,\n",
              " 5.764392817688067e-109,\n",
              " 1.1099952048040687e-113,\n",
              " 8.375809525927444e-121,\n",
              " 5.3310208562553835e-117,\n",
              " 2.722209147739728e-115,\n",
              " 1.0900694153407687e-118,\n",
              " 1.1201775577194747e-112,\n",
              " 1.2449548982563925e-119,\n",
              " 3.424083010908755e-115,\n",
              " 4.64687090701554e-112,\n",
              " 3.624655410745719e-109,\n",
              " 4.6765452823417296e-125,\n",
              " 4.343397992031397e-122,\n",
              " 5.404690685634692e-119,\n",
              " 8.304860466556418e-115,\n",
              " 7.696020676582669e-126,\n",
              " 2.9359545343383773e-120,\n",
              " 1.5605714948888133e-125,\n",
              " 4.12820755381773e-121,\n",
              " 2.207440093834538e-123,\n",
              " 1.6256735611565593e-121,\n",
              " 4.813116754603182e-118,\n",
              " 5.6881317131756156e-124,\n",
              " 3.2492289203813526e-113,\n",
              " 1.4554847231579225e-133,\n",
              " 1.000604145477635e-122,\n",
              " 5.940609304611258e-131,\n",
              " 3.4660905538621445e-117,\n",
              " 7.488590805526382e-122,\n",
              " 6.88438486826683e-129,\n",
              " 4.042757413227207e-129,\n",
              " 4.304868290327572e-125,\n",
              " 2.0450321224147144e-127,\n",
              " 4.941742815529938e-125,\n",
              " 2.087439690513439e-124,\n",
              " 7.043409023134515e-127,\n",
              " 2.3715188957939506e-132,\n",
              " 1.1238961402271598e-137,\n",
              " 2.2937195201606446e-141,\n",
              " 3.6138977124622575e-134,\n",
              " 5.601776177937164e-130,\n",
              " 9.446319421711975e-138,\n",
              " 2.9864436864230457e-133,\n",
              " 4.375936184269433e-133,\n",
              " 1.3449733777558933e-131,\n",
              " 2.0897009792142665e-129,\n",
              " 3.358483990399863e-142,\n",
              " 4.316458907805831e-136,\n",
              " 8.372867998118136e-130,\n",
              " 1.661051384196209e-136,\n",
              " 7.055269551714935e-138,\n",
              " 9.657776329375745e-138,\n",
              " 2.921353406961791e-127,\n",
              " 1.4224586010773115e-132,\n",
              " 3.354346595212821e-142,\n",
              " 3.362713392969243e-137,\n",
              " 3.18969449682462e-151,\n",
              " 2.314395484800976e-138,\n",
              " 8.832626961662529e-141,\n",
              " 8.822775055361446e-143,\n",
              " 2.7086229443207997e-137,\n",
              " 1.0404727935289857e-140,\n",
              " 5.53200284505589e-141,\n",
              " 3.9114079137208634e-137]"
            ]
          },
          "metadata": {},
          "execution_count": 7
        }
      ]
    },
    {
      "cell_type": "code",
      "source": [
        "lp_p3 = np.log(perc_p3)"
      ],
      "metadata": {
        "id": "kqpCYEfQBxAJ"
      },
      "id": "kqpCYEfQBxAJ",
      "execution_count": null,
      "outputs": []
    },
    {
      "cell_type": "code",
      "source": [
        "plt.plot(walk_length3, perc_p3)"
      ],
      "metadata": {
        "colab": {
          "base_uri": "https://localhost:8080/",
          "height": 293
        },
        "id": "0JZqIWnq-6rX",
        "outputId": "7926de9f-e934-4fda-83fa-d68c44e97101"
      },
      "id": "0JZqIWnq-6rX",
      "execution_count": null,
      "outputs": [
        {
          "output_type": "execute_result",
          "data": {
            "text/plain": [
              "[<matplotlib.lines.Line2D at 0x7f90df56abd0>]"
            ]
          },
          "metadata": {},
          "execution_count": 6
        },
        {
          "output_type": "display_data",
          "data": {
            "text/plain": [
              "<Figure size 432x288 with 1 Axes>"
            ],
            "image/png": "[encoded data removed]"
          },
          "metadata": {
            "needs_background": "light"
          }
        }
      ]
    },
    {
      "cell_type": "code",
      "source": [
        "plt.plot(walk_length3, lp_p3)"
      ],
      "metadata": {
        "colab": {
          "base_uri": "https://localhost:8080/",
          "height": 284
        },
        "id": "5TwPuFAfDwtE",
        "outputId": "5a0bd1a8-ebb0-42f9-fc95-c35b083ac602"
      },
      "id": "5TwPuFAfDwtE",
      "execution_count": null,
      "outputs": [
        {
          "output_type": "execute_result",
          "data": {
            "text/plain": [
              "[<matplotlib.lines.Line2D at 0x7f31ff139210>]"
            ]
          },
          "metadata": {},
          "execution_count": 7
        },
        {
          "output_type": "display_data",
          "data": {
            "text/plain": [
              "<Figure size 432x288 with 1 Axes>"
            ],
            "image/png": "[encoded data removed]"
          },
          "metadata": {
            "needs_background": "light"
          }
        }
      ]
    },
    {
      "cell_type": "code",
      "source": [
        "pr3_df = pd.DataFrame({'walk_length3':walk_length3, 'lp_p3':lp_p3})\n",
        "pr3_df"
      ],
      "metadata": {
        "colab": {
          "base_uri": "https://localhost:8080/",
          "height": 424
        },
        "id": "eNJuD6A6D0Jd",
        "outputId": "cd8d460b-2ee7-4b6b-9e23-09a6c1de0aad"
      },
      "id": "eNJuD6A6D0Jd",
      "execution_count": null,
      "outputs": [
        {
          "output_type": "execute_result",
          "data": {
            "text/plain": [
              "     walk_length3       lp_p3\n",
              "0              10  -12.208295\n",
              "1              11  -13.103333\n",
              "2              12  -13.698678\n",
              "3              13  -16.795162\n",
              "4              14  -17.087671\n",
              "..            ...         ...\n",
              "286           296 -323.179425\n",
              "287           297 -322.849878\n",
              "288           298 -334.938901\n",
              "289           299 -324.817045\n",
              "290           300 -330.102412\n",
              "\n",
              "[291 rows x 2 columns]"
            ],
            "text/html": [
              "\n",
              "  <div id=\"df-8630dd05-977a-47b9-86e8-a76fffa97f49\">\n",
              "    <div class=\"colab-df-container\">\n",
              "      <div>\n",
              "<style scoped>\n",
              "    .dataframe tbody tr th:only-of-type {\n",
              "        vertical-align: middle;\n",
              "    }\n",
              "\n",
              "    .dataframe tbody tr th {\n",
              "        vertical-align: top;\n",
              "    }\n",
              "\n",
              "    .dataframe thead th {\n",
              "        text-align: right;\n",
              "    }\n",
              "</style>\n",
              "<table border=\"1\" class=\"dataframe\">\n",
              "  <thead>\n",
              "    <tr style=\"text-align: right;\">\n",
              "      <th></th>\n",
              "      <th>walk_length3</th>\n",
              "      <th>lp_p3</th>\n",
              "    </tr>\n",
              "  </thead>\n",
              "  <tbody>\n",
              "    <tr>\n",
              "      <th>0</th>\n",
              "      <td>10</td>\n",
              "      <td>-12.208295</td>\n",
              "    </tr>\n",
              "    <tr>\n",
              "      <th>1</th>\n",
              "      <td>11</td>\n",
              "      <td>-13.103333</td>\n",
              "    </tr>\n",
              "    <tr>\n",
              "      <th>2</th>\n",
              "      <td>12</td>\n",
              "      <td>-13.698678</td>\n",
              "    </tr>\n",
              "    <tr>\n",
              "      <th>3</th>\n",
              "      <td>13</td>\n",
              "      <td>-16.795162</td>\n",
              "    </tr>\n",
              "    <tr>\n",
              "      <th>4</th>\n",
              "      <td>14</td>\n",
              "      <td>-17.087671</td>\n",
              "    </tr>\n",
              "    <tr>\n",
              "      <th>...</th>\n",
              "      <td>...</td>\n",
              "      <td>...</td>\n",
              "    </tr>\n",
              "    <tr>\n",
              "      <th>286</th>\n",
              "      <td>296</td>\n",
              "      <td>-323.179425</td>\n",
              "    </tr>\n",
              "    <tr>\n",
              "      <th>287</th>\n",
              "      <td>297</td>\n",
              "      <td>-322.849878</td>\n",
              "    </tr>\n",
              "    <tr>\n",
              "      <th>288</th>\n",
              "      <td>298</td>\n",
              "      <td>-334.938901</td>\n",
              "    </tr>\n",
              "    <tr>\n",
              "      <th>289</th>\n",
              "      <td>299</td>\n",
              "      <td>-324.817045</td>\n",
              "    </tr>\n",
              "    <tr>\n",
              "      <th>290</th>\n",
              "      <td>300</td>\n",
              "      <td>-330.102412</td>\n",
              "    </tr>\n",
              "  </tbody>\n",
              "</table>\n",
              "<p>291 rows × 2 columns</p>\n",
              "</div>\n",
              "      <button class=\"colab-df-convert\" onclick=\"convertToInteractive('df-8630dd05-977a-47b9-86e8-a76fffa97f49')\"\n",
              "              title=\"Convert this dataframe to an interactive table.\"\n",
              "              style=\"display:none;\">\n",
              "        \n",
              "  <svg xmlns=\"http://www.w3.org/2000/svg\" height=\"24px\"viewBox=\"0 0 24 24\"\n",
              "       width=\"24px\">\n",
              "    <path d=\"M0 0h24v24H0V0z\" fill=\"none\"/>\n",
              "    <path d=\"M18.56 5.44l.94 2.06.94-2.06 2.06-.94-2.06-.94-.94-2.06-.94 2.06-2.06.94zm-11 1L8.5 8.5l.94-2.06 2.06-.94-2.06-.94L8.5 2.5l-.94 2.06-2.06.94zm10 10l.94 2.06.94-2.06 2.06-.94-2.06-.94-.94-2.06-.94 2.06-2.06.94z\"/><path d=\"M17.41 7.96l-1.37-1.37c-.4-.4-.92-.59-1.43-.59-.52 0-1.04.2-1.43.59L10.3 9.45l-7.72 7.72c-.78.78-.78 2.05 0 2.83L4 21.41c.39.39.9.59 1.41.59.51 0 1.02-.2 1.41-.59l7.78-7.78 2.81-2.81c.8-.78.8-2.07 0-2.86zM5.41 20L4 18.59l7.72-7.72 1.47 1.35L5.41 20z\"/>\n",
              "  </svg>\n",
              "      </button>\n",
              "      \n",
              "  <style>\n",
              "    .colab-df-container {\n",
              "      display:flex;\n",
              "      flex-wrap:wrap;\n",
              "      gap: 12px;\n",
              "    }\n",
              "\n",
              "    .colab-df-convert {\n",
              "      background-color: #E8F0FE;\n",
              "      border: none;\n",
              "      border-radius: 50%;\n",
              "      cursor: pointer;\n",
              "      display: none;\n",
              "      fill: #1967D2;\n",
              "      height: 32px;\n",
              "      padding: 0 0 0 0;\n",
              "      width: 32px;\n",
              "    }\n",
              "\n",
              "    .colab-df-convert:hover {\n",
              "      background-color: #E2EBFA;\n",
              "      box-shadow: 0px 1px 2px rgba(60, 64, 67, 0.3), 0px 1px 3px 1px rgba(60, 64, 67, 0.15);\n",
              "      fill: #174EA6;\n",
              "    }\n",
              "\n",
              "    [theme=dark] .colab-df-convert {\n",
              "      background-color: #3B4455;\n",
              "      fill: #D2E3FC;\n",
              "    }\n",
              "\n",
              "    [theme=dark] .colab-df-convert:hover {\n",
              "      background-color: #434B5C;\n",
              "      box-shadow: 0px 1px 3px 1px rgba(0, 0, 0, 0.15);\n",
              "      filter: drop-shadow(0px 1px 2px rgba(0, 0, 0, 0.3));\n",
              "      fill: #FFFFFF;\n",
              "    }\n",
              "  </style>\n",
              "\n",
              "      <script>\n",
              "        const buttonEl =\n",
              "          document.querySelector('#df-8630dd05-977a-47b9-86e8-a76fffa97f49 button.colab-df-convert');\n",
              "        buttonEl.style.display =\n",
              "          google.colab.kernel.accessAllowed ? 'block' : 'none';\n",
              "\n",
              "        async function convertToInteractive(key) {\n",
              "          const element = document.querySelector('#df-8630dd05-977a-47b9-86e8-a76fffa97f49');\n",
              "          const dataTable =\n",
              "            await google.colab.kernel.invokeFunction('convertToInteractive',\n",
              "                                                     [key], {});\n",
              "          if (!dataTable) return;\n",
              "\n",
              "          const docLinkHtml = 'Like what you see? Visit the ' +\n",
              "            '<a target=\"_blank\" href=https://colab.research.google.com/notebooks/data_table.ipynb>data table notebook</a>'\n",
              "            + ' to learn more about interactive tables.';\n",
              "          element.innerHTML = '';\n",
              "          dataTable['output_type'] = 'display_data';\n",
              "          await google.colab.output.renderOutput(dataTable, element);\n",
              "          const docLink = document.createElement('div');\n",
              "          docLink.innerHTML = docLinkHtml;\n",
              "          element.appendChild(docLink);\n",
              "        }\n",
              "      </script>\n",
              "    </div>\n",
              "  </div>\n",
              "  "
            ]
          },
          "metadata": {},
          "execution_count": 8
        }
      ]
    },
    {
      "cell_type": "code",
      "source": [
        "y_3= pr3_df.lp_p3\n",
        "X_3 = pr3_df[[\"walk_length3\"]]"
      ],
      "metadata": {
        "id": "RjAm4E6QD0Go"
      },
      "id": "RjAm4E6QD0Go",
      "execution_count": null,
      "outputs": []
    },
    {
      "cell_type": "code",
      "source": [
        "lr_model_3 = LinearRegression().fit(X_3, y_3)\n",
        "lr_model_3"
      ],
      "metadata": {
        "colab": {
          "base_uri": "https://localhost:8080/"
        },
        "id": "46T105InD_Qk",
        "outputId": "1c6669dc-3381-4b86-f434-c72b1eb18efa"
      },
      "id": "46T105InD_Qk",
      "execution_count": null,
      "outputs": [
        {
          "output_type": "execute_result",
          "data": {
            "text/plain": [
              "LinearRegression()"
            ]
          },
          "metadata": {},
          "execution_count": 12
        }
      ]
    },
    {
      "cell_type": "code",
      "source": [
        "log_regy_3 = lr_model_3.intercept_ + (lr_model_3.coef_*walk_length3)"
      ],
      "metadata": {
        "id": "igSizMffECpj"
      },
      "id": "igSizMffECpj",
      "execution_count": null,
      "outputs": []
    },
    {
      "cell_type": "code",
      "source": [
        "lr_model_3.intercept_"
      ],
      "metadata": {
        "colab": {
          "base_uri": "https://localhost:8080/"
        },
        "id": "U369ULhwFEhN",
        "outputId": "0ced9557-4b32-4dfa-e2d9-08781ba469e2"
      },
      "id": "U369ULhwFEhN",
      "execution_count": null,
      "outputs": [
        {
          "output_type": "execute_result",
          "data": {
            "text/plain": [
              "-0.4250828036065002"
            ]
          },
          "metadata": {},
          "execution_count": 15
        }
      ]
    },
    {
      "cell_type": "code",
      "source": [
        "lr_model_3.coef_"
      ],
      "metadata": {
        "colab": {
          "base_uri": "https://localhost:8080/"
        },
        "id": "iAvkfaMVFHv_",
        "outputId": "d078acb0-e386-4209-d977-ee428d82e836"
      },
      "id": "iAvkfaMVFHv_",
      "execution_count": null,
      "outputs": [
        {
          "output_type": "execute_result",
          "data": {
            "text/plain": [
              "array([-1.08342964])"
            ]
          },
          "metadata": {},
          "execution_count": 13
        }
      ]
    },
    {
      "cell_type": "code",
      "source": [
        "#y = -0.4250828036065002 + (-1.08342964*X)"
      ],
      "metadata": {
        "id": "0fezJKW2FLCI"
      },
      "id": "0fezJKW2FLCI",
      "execution_count": null,
      "outputs": []
    },
    {
      "cell_type": "code",
      "source": [
        "logWL = np.log(walk_length3)"
      ],
      "metadata": {
        "id": "0RGcRw5tSN6z"
      },
      "id": "0RGcRw5tSN6z",
      "execution_count": null,
      "outputs": []
    },
    {
      "cell_type": "code",
      "source": [
        "plt.plot(logWL, lp_p3)\n",
        "plt.plot(logWL, log_regy_3)\n",
        "plt.show"
      ],
      "metadata": {
        "colab": {
          "base_uri": "https://localhost:8080/",
          "height": 283
        },
        "id": "E8QyO80DST-Q",
        "outputId": "6752675c-89e2-413f-ab3e-0ebd7b21b37c"
      },
      "id": "E8QyO80DST-Q",
      "execution_count": null,
      "outputs": [
        {
          "output_type": "execute_result",
          "data": {
            "text/plain": [
              "<function matplotlib.pyplot.show(*args, **kw)>"
            ]
          },
          "metadata": {},
          "execution_count": 20
        },
        {
          "output_type": "display_data",
          "data": {
            "text/plain": [
              "<Figure size 432x288 with 1 Axes>"
            ],
            "image/png": "[encoded data removed]"
          },
          "metadata": {
            "needs_background": "light"
          }
        }
      ]
    },
    {
      "cell_type": "code",
      "source": [
        "plt.plot(walk_length3, lp_p3)\n",
        "plt.plot(walk_length3, log_regy_3)\n",
        "plt.show"
      ],
      "metadata": {
        "colab": {
          "base_uri": "https://localhost:8080/",
          "height": 283
        },
        "id": "yhyH-GIHEPL7",
        "outputId": "473d77e3-30fa-47c9-a397-36c4153429e4"
      },
      "id": "yhyH-GIHEPL7",
      "execution_count": null,
      "outputs": [
        {
          "output_type": "execute_result",
          "data": {
            "text/plain": [
              "<function matplotlib.pyplot.show(*args, **kw)>"
            ]
          },
          "metadata": {},
          "execution_count": 16
        },
        {
          "output_type": "display_data",
          "data": {
            "text/plain": [
              "<Figure size 432x288 with 1 Axes>"
            ],
            "image/png": "[encoded data removed]"
          },
          "metadata": {
            "needs_background": "light"
          }
        }
      ]
    },
    {
      "cell_type": "code",
      "source": [
        "regy_3 = np.exp(log_regy_3)"
      ],
      "metadata": {
        "id": "s3NX_dTPE0ae"
      },
      "id": "s3NX_dTPE0ae",
      "execution_count": null,
      "outputs": []
    },
    {
      "cell_type": "code",
      "source": [
        "plt.plot(walk_length3, perc_p3)\n",
        "plt.plot(walk_length3, regy_3)\n",
        "plt.show"
      ],
      "metadata": {
        "colab": {
          "base_uri": "https://localhost:8080/",
          "height": 293
        },
        "id": "hl3TUsGcEjCo",
        "outputId": "5ff4b93c-eb1e-45ff-baa5-9f057831ea3f"
      },
      "id": "hl3TUsGcEjCo",
      "execution_count": null,
      "outputs": [
        {
          "output_type": "execute_result",
          "data": {
            "text/plain": [
              "<function matplotlib.pyplot.show(*args, **kw)>"
            ]
          },
          "metadata": {},
          "execution_count": 18
        },
        {
          "output_type": "display_data",
          "data": {
            "text/plain": [
              "<Figure size 432x288 with 1 Axes>"
            ],
            "image/png": "[encoded data removed]"
          },
          "metadata": {
            "needs_background": "light"
          }
        }
      ]
    },
    {
      "cell_type": "code",
      "source": [
        "#y = exp(-1.1710812144816103 + (-1.07876488*X))"
      ],
      "metadata": {
        "id": "fzR5kWNCFAMA"
      },
      "id": "fzR5kWNCFAMA",
      "execution_count": null,
      "outputs": []
    }
  ],
  "metadata": {
    "kernelspec": {
      "display_name": "Python 3 (ipykernel)",
      "language": "python",
      "name": "python3"
    },
    "language_info": {
      "codemirror_mode": {
        "name": "ipython",
        "version": 3
      },
      "file_extension": ".py",
      "mimetype": "text/x-python",
      "name": "python",
      "nbconvert_exporter": "python",
      "pygments_lexer": "ipython3",
      "version": "3.9.7"
    },
    "colab": {
      "provenance": []
    }
  },
  "nbformat": 4,
  "nbformat_minor": 5
}